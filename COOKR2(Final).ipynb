{
  "nbformat": 4,
  "nbformat_minor": 0,
  "metadata": {
    "colab": {
      "provenance": []
    },
    "kernelspec": {
      "name": "python3",
      "display_name": "Python 3"
    },
    "language_info": {
      "name": "python"
    }
  },
  "cells": [
    {
      "cell_type": "code",
      "execution_count": null,
      "metadata": {
        "id": "7AW1-eT9o9M9"
      },
      "outputs": [],
      "source": [
        "import openrouteservice as ors\n",
        "import folium\n"
      ]
    },
    {
      "cell_type": "code",
      "source": [
        "pip install folium"
      ],
      "metadata": {
        "colab": {
          "base_uri": "https://localhost:8080/"
        },
        "id": "JpTJsPPU0nj8",
        "outputId": "fc59b1ed-b3cd-44bc-97a8-9fb296044b52"
      },
      "execution_count": 86,
      "outputs": [
        {
          "output_type": "stream",
          "name": "stdout",
          "text": [
            "Requirement already satisfied: folium in /usr/local/lib/python3.10/dist-packages (0.14.0)\n",
            "Requirement already satisfied: branca>=0.6.0 in /usr/local/lib/python3.10/dist-packages (from folium) (0.7.1)\n",
            "Requirement already satisfied: jinja2>=2.9 in /usr/local/lib/python3.10/dist-packages (from folium) (3.1.3)\n",
            "Requirement already satisfied: numpy in /usr/local/lib/python3.10/dist-packages (from folium) (1.25.2)\n",
            "Requirement already satisfied: requests in /usr/local/lib/python3.10/dist-packages (from folium) (2.31.0)\n",
            "Requirement already satisfied: MarkupSafe>=2.0 in /usr/local/lib/python3.10/dist-packages (from jinja2>=2.9->folium) (2.1.5)\n",
            "Requirement already satisfied: charset-normalizer<4,>=2 in /usr/local/lib/python3.10/dist-packages (from requests->folium) (3.3.2)\n",
            "Requirement already satisfied: idna<4,>=2.5 in /usr/local/lib/python3.10/dist-packages (from requests->folium) (3.6)\n",
            "Requirement already satisfied: urllib3<3,>=1.21.1 in /usr/local/lib/python3.10/dist-packages (from requests->folium) (2.0.7)\n",
            "Requirement already satisfied: certifi>=2017.4.17 in /usr/local/lib/python3.10/dist-packages (from requests->folium) (2024.2.2)\n"
          ]
        }
      ]
    },
    {
      "cell_type": "code",
      "source": [
        "apiKey='5b3ce3597851110001cf624879edeff0b8c54e7e83830c78f5447762'\n",
        "client = ors.Client(key='5b3ce3597851110001cf624879edeff0b8c54e7e83830c78f5447762')\n"
      ],
      "metadata": {
        "id": "XBsV-ijfws_D"
      },
      "execution_count": 87,
      "outputs": []
    },
    {
      "cell_type": "code",
      "source": [
        "import operator\n",
        "from functools import reduce\n",
        "\n",
        "m = folium.Map(location=list([ 10.997480123197462, 77.01116519467452]), tiles=\"cartodbpositron\", zoom_start=13)\n",
        "\n",
        "coords = [[10.997480123197462, 77.01116519467452], [11.011062161407962, 76.98302718384372]]\n",
        "coords=[list(reversed(i)) for i in coords]\n",
        "route = client.directions(coordinates=coords,\n",
        "                          profile='foot-walking',\n",
        "                          format='geojson')\n",
        "\n",
        "waypoints = list(dict.fromkeys(reduce(operator.concat, list(map(lambda step: step['way_points'], route['features'][0]['properties']['segments'][0]['steps'])))))\n",
        "\n",
        "folium.PolyLine(locations=[list(reversed(coord)) for coord in route['features'][0]['geometry']['coordinates']], color=\"blue\").add_to(m)\n",
        "\n",
        "folium.PolyLine(locations=[list(reversed(route['features'][0]['geometry']['coordinates'][index])) for index in waypoints], color=\"red\").add_to(m)\n",
        "\n",
        "m"
      ],
      "metadata": {
        "id": "e2SyxvG6w7GD",
        "outputId": "916f500a-bf44-4284-c839-e28ff3393003",
        "colab": {
          "base_uri": "https://localhost:8080/",
          "height": 490
        }
      },
      "execution_count": 88,
      "outputs": [
        {
          "output_type": "execute_result",
          "data": {
            "text/plain": [
              "<folium.folium.Map at 0x79b61a942500>"
            ],
            "text/html": [
              "<div style=\"width:100%;\"><div style=\"position:relative;width:100%;height:0;padding-bottom:60%;\"><span style=\"color:#565656\">Make this Notebook Trusted to load map: File -> Trust Notebook</span><iframe srcdoc=\"&lt;!DOCTYPE html&gt;\n",
              "&lt;html&gt;\n",
              "&lt;head&gt;\n",
              "    \n",
              "    &lt;meta http-equiv=&quot;content-type&quot; content=&quot;text/html; charset=UTF-8&quot; /&gt;\n",
              "    \n",
              "        &lt;script&gt;\n",
              "            L_NO_TOUCH = false;\n",
              "            L_DISABLE_3D = false;\n",
              "        &lt;/script&gt;\n",
              "    \n",
              "    &lt;style&gt;html, body {width: 100%;height: 100%;margin: 0;padding: 0;}&lt;/style&gt;\n",
              "    &lt;style&gt;#map {position:absolute;top:0;bottom:0;right:0;left:0;}&lt;/style&gt;\n",
              "    &lt;script src=&quot;https://cdn.jsdelivr.net/npm/leaflet@1.9.3/dist/leaflet.js&quot;&gt;&lt;/script&gt;\n",
              "    &lt;script src=&quot;https://code.jquery.com/jquery-1.12.4.min.js&quot;&gt;&lt;/script&gt;\n",
              "    &lt;script src=&quot;https://cdn.jsdelivr.net/npm/bootstrap@5.2.2/dist/js/bootstrap.bundle.min.js&quot;&gt;&lt;/script&gt;\n",
              "    &lt;script src=&quot;https://cdnjs.cloudflare.com/ajax/libs/Leaflet.awesome-markers/2.0.2/leaflet.awesome-markers.js&quot;&gt;&lt;/script&gt;\n",
              "    &lt;link rel=&quot;stylesheet&quot; href=&quot;https://cdn.jsdelivr.net/npm/leaflet@1.9.3/dist/leaflet.css&quot;/&gt;\n",
              "    &lt;link rel=&quot;stylesheet&quot; href=&quot;https://cdn.jsdelivr.net/npm/bootstrap@5.2.2/dist/css/bootstrap.min.css&quot;/&gt;\n",
              "    &lt;link rel=&quot;stylesheet&quot; href=&quot;https://netdna.bootstrapcdn.com/bootstrap/3.0.0/css/bootstrap.min.css&quot;/&gt;\n",
              "    &lt;link rel=&quot;stylesheet&quot; href=&quot;https://cdn.jsdelivr.net/npm/@fortawesome/fontawesome-free@6.2.0/css/all.min.css&quot;/&gt;\n",
              "    &lt;link rel=&quot;stylesheet&quot; href=&quot;https://cdnjs.cloudflare.com/ajax/libs/Leaflet.awesome-markers/2.0.2/leaflet.awesome-markers.css&quot;/&gt;\n",
              "    &lt;link rel=&quot;stylesheet&quot; href=&quot;https://cdn.jsdelivr.net/gh/python-visualization/folium/folium/templates/leaflet.awesome.rotate.min.css&quot;/&gt;\n",
              "    \n",
              "            &lt;meta name=&quot;viewport&quot; content=&quot;width=device-width,\n",
              "                initial-scale=1.0, maximum-scale=1.0, user-scalable=no&quot; /&gt;\n",
              "            &lt;style&gt;\n",
              "                #map_9c4bebe8f2650710fe556e691f74c907 {\n",
              "                    position: relative;\n",
              "                    width: 100.0%;\n",
              "                    height: 100.0%;\n",
              "                    left: 0.0%;\n",
              "                    top: 0.0%;\n",
              "                }\n",
              "                .leaflet-container { font-size: 1rem; }\n",
              "            &lt;/style&gt;\n",
              "        \n",
              "&lt;/head&gt;\n",
              "&lt;body&gt;\n",
              "    \n",
              "    \n",
              "            &lt;div class=&quot;folium-map&quot; id=&quot;map_9c4bebe8f2650710fe556e691f74c907&quot; &gt;&lt;/div&gt;\n",
              "        \n",
              "&lt;/body&gt;\n",
              "&lt;script&gt;\n",
              "    \n",
              "    \n",
              "            var map_9c4bebe8f2650710fe556e691f74c907 = L.map(\n",
              "                &quot;map_9c4bebe8f2650710fe556e691f74c907&quot;,\n",
              "                {\n",
              "                    center: [10.997480123197462, 77.01116519467452],\n",
              "                    crs: L.CRS.EPSG3857,\n",
              "                    zoom: 13,\n",
              "                    zoomControl: true,\n",
              "                    preferCanvas: false,\n",
              "                }\n",
              "            );\n",
              "\n",
              "            \n",
              "\n",
              "        \n",
              "    \n",
              "            var tile_layer_7fa6a989a0c4b3d05e6cb464204783b3 = L.tileLayer(\n",
              "                &quot;https://cartodb-basemaps-{s}.global.ssl.fastly.net/light_all/{z}/{x}/{y}.png&quot;,\n",
              "                {&quot;attribution&quot;: &quot;\\u0026copy; \\u003ca target=\\&quot;_blank\\&quot; href=\\&quot;http://www.openstreetmap.org/copyright\\&quot;\\u003eOpenStreetMap\\u003c/a\\u003e contributors \\u0026copy; \\u003ca target=\\&quot;_blank\\&quot; href=\\&quot;http://cartodb.com/attributions\\&quot;\\u003eCartoDB\\u003c/a\\u003e, CartoDB \\u003ca target=\\&quot;_blank\\&quot; href =\\&quot;http://cartodb.com/attributions\\&quot;\\u003eattributions\\u003c/a\\u003e&quot;, &quot;detectRetina&quot;: false, &quot;maxNativeZoom&quot;: 18, &quot;maxZoom&quot;: 18, &quot;minZoom&quot;: 0, &quot;noWrap&quot;: false, &quot;opacity&quot;: 1, &quot;subdomains&quot;: &quot;abc&quot;, &quot;tms&quot;: false}\n",
              "            ).addTo(map_9c4bebe8f2650710fe556e691f74c907);\n",
              "        \n",
              "    \n",
              "            var poly_line_62cfef7d6506b2730013366de895a941 = L.polyline(\n",
              "                [[10.997441, 77.011172], [10.997315, 77.010409], [10.997273, 77.010125], [10.997386, 77.010105], [10.998564, 77.009611], [10.998932, 77.009518], [10.99935, 77.009413], [10.999781, 77.009302], [11.000229, 77.009186], [11.000804, 77.009059], [11.000673, 77.00835], [11.000716, 77.00806], [11.000566, 77.007211], [11.000544, 77.007086], [11.000452, 77.006567], [11.000189, 77.005315], [11.000595, 77.004859], [11.001329, 77.004065], [11.001621, 77.003789], [11.001367, 77.003556], [11.001138, 77.003308], [11.000994, 77.002999], [11.000865, 77.002525], [11.000833, 77.002226], [11.000755, 77.001488], [11.00071, 77.001364], [11.000697, 77.001248], [11.000934, 77.001018], [11.001155, 77.000926], [11.001122, 77.000777], [11.001182, 77.000643], [11.001506, 77.000604], [11.001775, 77.000541], [11.001968, 77.000405], [11.002512, 76.999941], [11.003033, 76.999558], [11.003189, 76.999428], [11.003484, 76.998364], [11.003682, 76.997657], [11.004, 76.996613], [11.004288, 76.995761], [11.004349, 76.995584], [11.004533, 76.995279], [11.004787, 76.994857], [11.004888, 76.994741], [11.005304, 76.994529], [11.005411, 76.994595], [11.005698, 76.994759], [11.005752, 76.994756], [11.006019, 76.994851], [11.006601, 76.994896], [11.006818, 76.994928], [11.006913, 76.994942], [11.007053, 76.994967], [11.007269, 76.994979], [11.007534, 76.994939], [11.008558, 76.994605], [11.009568, 76.994215], [11.010161, 76.993966], [11.010367, 76.993821], [11.010463, 76.993723], [11.010614, 76.993472], [11.010691, 76.993087], [11.010843, 76.992167], [11.010865, 76.991754], [11.011821, 76.991131], [11.012008, 76.990956], [11.012172, 76.990801], [11.012353, 76.990657], [11.012434, 76.990593], [11.012822, 76.990134], [11.013323, 76.98944], [11.013493, 76.989187], [11.013699, 76.988904], [11.013926, 76.988592], [11.014458, 76.987981], [11.014147, 76.987557], [11.013185, 76.98651], [11.012952, 76.986239], [11.013068, 76.986147], [11.013035, 76.98611], [11.012959, 76.986025], [11.012853, 76.985903], [11.01266, 76.98568], [11.012553, 76.985555], [11.012305, 76.985177], [11.011078, 76.983018]],\n",
              "                {&quot;bubblingMouseEvents&quot;: true, &quot;color&quot;: &quot;blue&quot;, &quot;dashArray&quot;: null, &quot;dashOffset&quot;: null, &quot;fill&quot;: false, &quot;fillColor&quot;: &quot;blue&quot;, &quot;fillOpacity&quot;: 0.2, &quot;fillRule&quot;: &quot;evenodd&quot;, &quot;lineCap&quot;: &quot;round&quot;, &quot;lineJoin&quot;: &quot;round&quot;, &quot;noClip&quot;: false, &quot;opacity&quot;: 1.0, &quot;smoothFactor&quot;: 1.0, &quot;stroke&quot;: true, &quot;weight&quot;: 3}\n",
              "            ).addTo(map_9c4bebe8f2650710fe556e691f74c907);\n",
              "        \n",
              "    \n",
              "            var poly_line_732a152df4dd7948d4da4f5474d799d7 = L.polyline(\n",
              "                [[10.997441, 77.011172], [10.997273, 77.010125], [11.000804, 77.009059], [11.000189, 77.005315], [11.001621, 77.003789], [11.00071, 77.001364], [11.001155, 77.000926], [11.001182, 77.000643], [11.003484, 76.998364], [11.005304, 76.994529], [11.005698, 76.994759], [11.010865, 76.991754], [11.014458, 76.987981], [11.012952, 76.986239], [11.013068, 76.986147], [11.011078, 76.983018]],\n",
              "                {&quot;bubblingMouseEvents&quot;: true, &quot;color&quot;: &quot;red&quot;, &quot;dashArray&quot;: null, &quot;dashOffset&quot;: null, &quot;fill&quot;: false, &quot;fillColor&quot;: &quot;red&quot;, &quot;fillOpacity&quot;: 0.2, &quot;fillRule&quot;: &quot;evenodd&quot;, &quot;lineCap&quot;: &quot;round&quot;, &quot;lineJoin&quot;: &quot;round&quot;, &quot;noClip&quot;: false, &quot;opacity&quot;: 1.0, &quot;smoothFactor&quot;: 1.0, &quot;stroke&quot;: true, &quot;weight&quot;: 3}\n",
              "            ).addTo(map_9c4bebe8f2650710fe556e691f74c907);\n",
              "        \n",
              "&lt;/script&gt;\n",
              "&lt;/html&gt;\" style=\"position:absolute;width:100%;height:100%;left:0;top:0;border:none !important;\" allowfullscreen webkitallowfullscreen mozallowfullscreen></iframe></div></div>"
            ]
          },
          "metadata": {},
          "execution_count": 88
        }
      ]
    },
    {
      "cell_type": "markdown",
      "source": [
        "find route for given pair of source and destination locations\n"
      ],
      "metadata": {
        "id": "t3cnTBt2V2Qu"
      }
    },
    {
      "cell_type": "code",
      "source": [
        "\n",
        "def findroute(coords):\n",
        "  coords=[list(reversed(i)) for i in coords]\n",
        "  route = client.directions(coordinates=coords,\n",
        "                          profile='foot-walking',\n",
        "                          format='geojson')\n",
        "  return route['features'][0]['geometry']['coordinates']"
      ],
      "metadata": {
        "id": "1Q0Pzm8_uHHU"
      },
      "execution_count": 89,
      "outputs": []
    },
    {
      "cell_type": "code",
      "source": [
        "\"\"\"coordinates = list(\n",
        "  (9.970093, 48.477473),\n",
        "  (9.207916, 49.153868),\n",
        "  (37.573242, 55.801281),\n",
        "  (115.663757,38.106467)\n",
        ")\n",
        "\"\"\"\n",
        "\"\"\"\n",
        "coordinates=[[9.970093, 48.477473], [9.207916, 49.153868], [37.573242, 55.801281], [115.663757, 38.106467]]\n",
        "\n",
        "# query for duration and distance in km\n",
        "res =ors_matrix(coordinates, metrics = c(\"duration\", \"distance\"), units = \"km\")\n",
        "\n",
        "# duration in hours\n",
        "#res$durations / 3600\n",
        "#>            [,1]       [,2]     [,3]      [,4]\n",
        "#> [1,]   0.000000   1.604628 25.18577 109.65616\n",
        "#> [2,]   1.573203   0.000000 25.07776 109.54814\n",
        "#> [3,]  25.131819  24.989258  0.00000  85.57442\n",
        "#> [4,] 109.457067 109.314506 85.33261   0.00000\n",
        "\n",
        "# distance in km\n",
        "#res$distances\n",
        "#>         [,1]    [,2]    [,3]    [,4]\n",
        "#> [1,]    0.00  153.50 2410.79 9860.26\n",
        "#> [2,]  153.81    0.00 2385.20 9834.68\n",
        "#> [3,] 2358.56 2334.40    0.00 7501.23\n",
        "#> [4,] 9790.67 9766.52 7449.31    0.00\n",
        "\"\"\""
      ],
      "metadata": {
        "id": "OyTMVPaq6Jx1",
        "colab": {
          "base_uri": "https://localhost:8080/",
          "height": 164
        },
        "outputId": "c62f9967-099a-4ffd-c115-cb56a48d91e9"
      },
      "execution_count": 90,
      "outputs": [
        {
          "output_type": "execute_result",
          "data": {
            "text/plain": [
              "'\\ncoordinates=[[9.970093, 48.477473], [9.207916, 49.153868], [37.573242, 55.801281], [115.663757, 38.106467]]\\n\\n# query for duration and distance in km\\nres =ors_matrix(coordinates, metrics = c(\"duration\", \"distance\"), units = \"km\")\\n\\n# duration in hours\\n#res$durations / 3600\\n#>            [,1]       [,2]     [,3]      [,4]\\n#> [1,]   0.000000   1.604628 25.18577 109.65616\\n#> [2,]   1.573203   0.000000 25.07776 109.54814\\n#> [3,]  25.131819  24.989258  0.00000  85.57442\\n#> [4,] 109.457067 109.314506 85.33261   0.00000\\n\\n# distance in km\\n#res$distances\\n#>         [,1]    [,2]    [,3]    [,4]\\n#> [1,]    0.00  153.50 2410.79 9860.26\\n#> [2,]  153.81    0.00 2385.20 9834.68\\n#> [3,] 2358.56 2334.40    0.00 7501.23\\n#> [4,] 9790.67 9766.52 7449.31    0.00\\n'"
            ],
            "application/vnd.google.colaboratory.intrinsic+json": {
              "type": "string"
            }
          },
          "metadata": {},
          "execution_count": 90
        }
      ]
    },
    {
      "cell_type": "markdown",
      "source": [
        "load and store latitude and longitude data"
      ],
      "metadata": {
        "id": "f6JjH_MAVnHE"
      }
    },
    {
      "cell_type": "code",
      "source": [
        "import json\n",
        "\n",
        "\n",
        "with open('input3.json') as f:\n",
        "    data = json.load(f)\n",
        "\n",
        "\n",
        "kitchen_coordinates = [coord for coord in data['kitchens'].values()]\n",
        "\n",
        "\n",
        "customer_coordinates = [coord for coord in data['customers'].values()]\n",
        "all_coordinates = kitchen_coordinates + customer_coordinates\n",
        "\n",
        "print(\"Kitchen Coordinates:\", kitchen_coordinates)\n",
        "print(\"Customer Coordinates:\", customer_coordinates)\n",
        "print(\"All Coordinates:\", all_coordinates)\n",
        "orders = data['orders']\n",
        "max_rider_capacity = data['max_rider_capacity']\n"
      ],
      "metadata": {
        "colab": {
          "base_uri": "https://localhost:8080/"
        },
        "id": "v03rAKso8iIE",
        "outputId": "f55f5fd1-d9a5-472c-9fd7-6a03dc0f5839"
      },
      "execution_count": 91,
      "outputs": [
        {
          "output_type": "stream",
          "name": "stdout",
          "text": [
            "Kitchen Coordinates: [[11.055677947474992, 77.0657629297908], [11.080302939124921, 76.94190401520554], [10.95900228800367, 76.9854557122443], [10.99727340737769, 76.99914012640663]]\n",
            "Customer Coordinates: [[11.064857505996498, 77.09354408383314], [11.059717894092417, 76.94513062197728], [10.924174927712457, 77.03678244820243], [11.003166596428468, 77.04188723253264]]\n",
            "All Coordinates: [[11.055677947474992, 77.0657629297908], [11.080302939124921, 76.94190401520554], [10.95900228800367, 76.9854557122443], [10.99727340737769, 76.99914012640663], [11.064857505996498, 77.09354408383314], [11.059717894092417, 76.94513062197728], [10.924174927712457, 77.03678244820243], [11.003166596428468, 77.04188723253264]]\n"
          ]
        }
      ]
    },
    {
      "cell_type": "code",
      "source": [
        "def reverse(li):\n",
        "  x=[list(reversed(x)) for x in li]\n",
        "  return x"
      ],
      "metadata": {
        "id": "CU5SE4UMd3pI"
      },
      "execution_count": 92,
      "outputs": []
    },
    {
      "cell_type": "markdown",
      "source": [
        "Computing Distance matrix for kitchens,customers and both included\n"
      ],
      "metadata": {
        "id": "hUiWvrNbVX0F"
      }
    },
    {
      "cell_type": "code",
      "source": [
        "import requests\n",
        "coords = [list(reversed([10.997480123197462, 77.01116519467452])),list(reversed( [11.011062161407962, 76.98302718384372]))]\n",
        "y=[[9.70093,48.477473],[9.207916,49.153868],[37.573242,55.801281],[115.663757,38.106467]]\n",
        "\n",
        "body1 = {\"locations\":reverse(kitchen_coordinates),\"metrics\":[\"distance\"],\"units\":\"km\"}\n",
        "body2 = {\"locations\":reverse(customer_coordinates),\"metrics\":[\"distance\"],\"units\":\"km\"}\n",
        "body3 = {\"locations\":reverse(all_coordinates),\"metrics\":[\"distance\"],\"units\":\"km\"}\n",
        "\n",
        "\n",
        "headers = {\n",
        "    'Accept': 'application/json, application/geo+json, application/gpx+xml, img/png; charset=utf-8',\n",
        "    'Authorization': apiKey,\n",
        "    'Content-Type': 'application/json; charset=utf-8'\n",
        "}\n",
        "kitchen_matrix = requests.post('https://api.openrouteservice.org/v2/matrix/driving-car', json=body1, headers=headers)\n",
        "customer_matrix = requests.post('https://api.openrouteservice.org/v2/matrix/driving-car', json=body2, headers=headers)\n",
        "all_matrix = requests.post('https://api.openrouteservice.org/v2/matrix/driving-car', json=body3, headers=headers)\n",
        "\n",
        "#print(call.status_code, call.reason)\n",
        "#print(call.text)"
      ],
      "metadata": {
        "id": "7Ny1AbpQd05n"
      },
      "execution_count": 93,
      "outputs": []
    },
    {
      "cell_type": "code",
      "source": [
        "import json\n",
        "\n",
        "\n",
        "data1 = json.loads(kitchen_matrix.text)\n",
        "kitchenmatrix = data1['distances']\n",
        "data2 = json.loads(customer_matrix.text)\n",
        "customermatrix = data2['distances']\n",
        "data3 = json.loads(all_matrix.text)\n",
        "allmatrix = data3['distances']\n",
        "\n",
        "for row in customermatrix:\n",
        "    print(row)\n"
      ],
      "metadata": {
        "colab": {
          "base_uri": "https://localhost:8080/"
        },
        "id": "clFp5jhHfKLl",
        "outputId": "2ab141d9-1463-4b2a-fdae-470dedbc8cb2"
      },
      "execution_count": 94,
      "outputs": [
        {
          "output_type": "stream",
          "name": "stdout",
          "text": [
            "[0.0, 32.06, 23.81, 14.19]\n",
            "[22.32, 0.0, 21.37, 17.07]\n",
            "[20.31, 22.07, 0.0, 14.09]\n",
            "[11.57, 17.87, 15.13, 0.0]\n"
          ]
        }
      ]
    },
    {
      "cell_type": "code",
      "source": [
        "print(kitchenmatrix)"
      ],
      "metadata": {
        "colab": {
          "base_uri": "https://localhost:8080/"
        },
        "id": "S8490MuCe4JQ",
        "outputId": "6ebe89dd-3273-4d3b-d392-22754d4c2e03"
      },
      "execution_count": 95,
      "outputs": [
        {
          "output_type": "stream",
          "name": "stdout",
          "text": [
            "[[0.0, 20.27, 20.65, 15.33], [20.67, 0.0, 16.76, 14.06], [19.82, 16.42, 0.0, 5.57], [11.53, 14.71, 5.85, 0.0]]\n"
          ]
        }
      ]
    },
    {
      "cell_type": "markdown",
      "source": [
        "Read json file and store it"
      ],
      "metadata": {
        "id": "7Hqs70ZqVTQz"
      }
    },
    {
      "cell_type": "code",
      "source": [
        "\n",
        "kitchens_details = {}\n",
        "for kitchen_name, kitchen_coord in data['kitchens'].items():\n",
        "    kitchens_details[kitchen_name] = kitchen_coord\n",
        "\n",
        "\n",
        "customers_details = {}\n",
        "for customer_name, customer_coord in data['customers'].items():\n",
        "    customers_details[customer_name] = customer_coord\n",
        "\n",
        "\n",
        "print(\"Kitchen Details:\")\n",
        "for kitchen_name, coord in kitchens_details.items():\n",
        "    print(f\"{kitchen_name}: Coordinates - {coord}\")\n",
        "\n",
        "print(\"\\nCustomer Details:\")\n",
        "for customer_name, coord in customers_details.items():\n",
        "    print(f\"{customer_name}: Coordinates - {coord}\")\n",
        "\n",
        "orders_details = {}\n",
        "for order_name, order_info in data['orders'].items():\n",
        "    orders_details[order_name] = {\n",
        "        'kitchen': order_info['kitchen'],\n",
        "        'customer': order_info['customer'],\n",
        "        'expected_ready_time': order_info['expected_ready_time']\n",
        "    }\n",
        "\n",
        "\n",
        "max_rider_capacity = data['max_rider_capacity']\n",
        "\n",
        "\n",
        "print(\"Orders Details:\")\n",
        "for order_name, details in orders_details.items():\n",
        "    print(f\"Order {order_name}: Kitchen - {details['kitchen']}, Customer - {details['customer']}, Expected Ready Time - {details['expected_ready_time']}\")\n",
        "\n",
        "print(f\"\\nMaximum Rider Capacity: {max_rider_capacity}\")"
      ],
      "metadata": {
        "colab": {
          "base_uri": "https://localhost:8080/"
        },
        "id": "4R6tdylJbdVR",
        "outputId": "5c354c0d-591c-43ce-bd7c-48de202d36f5"
      },
      "execution_count": 96,
      "outputs": [
        {
          "output_type": "stream",
          "name": "stdout",
          "text": [
            "Kitchen Details:\n",
            "k1: Coordinates - [11.055677947474992, 77.0657629297908]\n",
            "k2: Coordinates - [11.080302939124921, 76.94190401520554]\n",
            "k3: Coordinates - [10.95900228800367, 76.9854557122443]\n",
            "k4: Coordinates - [10.99727340737769, 76.99914012640663]\n",
            "\n",
            "Customer Details:\n",
            "c1: Coordinates - [11.064857505996498, 77.09354408383314]\n",
            "c2: Coordinates - [11.059717894092417, 76.94513062197728]\n",
            "c3: Coordinates - [10.924174927712457, 77.03678244820243]\n",
            "c4: Coordinates - [11.003166596428468, 77.04188723253264]\n",
            "Orders Details:\n",
            "Order order1: Kitchen - k1, Customer - c1, Expected Ready Time - 45\n",
            "Order order2: Kitchen - k1, Customer - c3, Expected Ready Time - 37\n",
            "Order order3: Kitchen - k3, Customer - c4, Expected Ready Time - 35\n",
            "Order order4: Kitchen - k2, Customer - c4, Expected Ready Time - 20\n",
            "Order order5: Kitchen - k4, Customer - c2, Expected Ready Time - 79\n",
            "\n",
            "Maximum Rider Capacity: 5\n"
          ]
        }
      ]
    },
    {
      "cell_type": "code",
      "source": [
        "orders_details\n"
      ],
      "metadata": {
        "colab": {
          "base_uri": "https://localhost:8080/"
        },
        "id": "JEEVpKKdiwZD",
        "outputId": "888c560f-429a-4aae-8190-0e99a7a740de"
      },
      "execution_count": 97,
      "outputs": [
        {
          "output_type": "execute_result",
          "data": {
            "text/plain": [
              "{'order1': {'kitchen': 'k1', 'customer': 'c1', 'expected_ready_time': 45},\n",
              " 'order2': {'kitchen': 'k1', 'customer': 'c3', 'expected_ready_time': 37},\n",
              " 'order3': {'kitchen': 'k3', 'customer': 'c4', 'expected_ready_time': 35},\n",
              " 'order4': {'kitchen': 'k2', 'customer': 'c4', 'expected_ready_time': 20},\n",
              " 'order5': {'kitchen': 'k4', 'customer': 'c2', 'expected_ready_time': 79}}"
            ]
          },
          "metadata": {},
          "execution_count": 97
        }
      ]
    },
    {
      "cell_type": "code",
      "source": [],
      "metadata": {
        "id": "zlzD9jUjlBmR"
      },
      "execution_count": 97,
      "outputs": []
    },
    {
      "cell_type": "code",
      "source": [
        "\"\"\"\n",
        "orders_details = {\n",
        "    'order1': {'kitchen': 'k1', 'customer': 'c1', 'expected_ready_time': 45},\n",
        "    'order2': {'kitchen': 'k1', 'customer': 'c1', 'expected_ready_time': 37},\n",
        "    'order3': {'kitchen': 'k3', 'customer': 'c2', 'expected_ready_time': 35},\n",
        "    'order4': {'kitchen': 'k2', 'customer': 'c1', 'expected_ready_time': 20},\n",
        "    'order5': {'kitchen': 'k4', 'customer': 'c1', 'expected_ready_time': 79}\n",
        "}\n",
        "\"\"\""
      ],
      "metadata": {
        "id": "nvo0Tm6EXbBm",
        "colab": {
          "base_uri": "https://localhost:8080/",
          "height": 109
        },
        "outputId": "715db689-9ecf-46cc-f65e-247108a1d5ab"
      },
      "execution_count": 98,
      "outputs": [
        {
          "output_type": "execute_result",
          "data": {
            "text/plain": [
              "\"\\norders_details = {\\n    'order1': {'kitchen': 'k1', 'customer': 'c1', 'expected_ready_time': 45},\\n    'order2': {'kitchen': 'k1', 'customer': 'c1', 'expected_ready_time': 37},\\n    'order3': {'kitchen': 'k3', 'customer': 'c2', 'expected_ready_time': 35},\\n    'order4': {'kitchen': 'k2', 'customer': 'c1', 'expected_ready_time': 20},\\n    'order5': {'kitchen': 'k4', 'customer': 'c1', 'expected_ready_time': 79}\\n}\\n\""
            ],
            "application/vnd.google.colaboratory.intrinsic+json": {
              "type": "string"
            }
          },
          "metadata": {},
          "execution_count": 98
        }
      ]
    },
    {
      "cell_type": "markdown",
      "source": [
        "Assign orders based on rules using a Greedy algorithm"
      ],
      "metadata": {
        "id": "u5mm1hUdWDQG"
      }
    },
    {
      "cell_type": "code",
      "source": [
        "from collections import defaultdict\n",
        "def assign_orders(orders_details, max_rider_capacity):\n",
        "    riders = defaultdict(list)\n",
        "    assigned_orders = set()\n",
        "\n",
        "    for order, details in orders_details.items():\n",
        "        kitchen = details['kitchen']\n",
        "        customer = details['customer']\n",
        "        ready_time = details['expected_ready_time']\n",
        "        assigned_to_rider = False\n",
        "\n",
        "\n",
        "        for rider, orders in riders.items():\n",
        "            if len(orders) < max_rider_capacity and \\\n",
        "                    all(orders_details[assigned_order]['kitchen'] == kitchen and\n",
        "                        orders_details[assigned_order]['customer'] == customer and\n",
        "                        abs(orders_details[assigned_order]['expected_ready_time'] - ready_time) <= 10\n",
        "                        for assigned_order in orders):\n",
        "                orders.append(order)\n",
        "                assigned_orders.add(order)\n",
        "                assigned_to_rider = True\n",
        "                break\n",
        "\n",
        "\n",
        "        if not assigned_to_rider:\n",
        "            for assigned_order in assigned_orders:\n",
        "                if (orders_details[assigned_order]['customer'] == customer and\n",
        "                        abs(orders_details[assigned_order]['expected_ready_time'] - ready_time) <= 10):\n",
        "                    route1 = findroute([orders_details[assigned_order]['kitchen'], customer])\n",
        "                    route2 = findroute([kitchen, customer])\n",
        "                    if any((coord in route2) for coord in route1):\n",
        "                        rider = assigned_order.split('_')[0]\n",
        "                        if len(riders[rider]) < max_rider_capacity:\n",
        "                            riders[rider].append(order)\n",
        "                            assigned_orders.add(order)\n",
        "                            assigned_to_rider = True\n",
        "                            break\n",
        "\n",
        "\n",
        "        if not assigned_to_rider:\n",
        "            for assigned_order in assigned_orders:\n",
        "                if (orders_details[assigned_order]['kitchen'] == kitchen and\n",
        "                        abs(orders_details[assigned_order]['expected_ready_time'] - ready_time) <= 10):\n",
        "                    if len(riders[assigned_order]) < max_rider_capacity:\n",
        "                        riders[assigned_order].append(order)\n",
        "                        assigned_orders.add(order)\n",
        "                        assigned_to_rider = True\n",
        "                        break\n",
        "\n",
        "        if not assigned_to_rider:\n",
        "            for assigned_order in assigned_orders:\n",
        "                if (orders_details[assigned_order]['customer'] == customer and\n",
        "                        abs(orders_details[assigned_order]['expected_ready_time'] - ready_time) <= 10):\n",
        "                    route1 = findroute([orders_details[assigned_order]['kitchen'], customer])\n",
        "                    route2 = findroute([kitchen, customer])\n",
        "                    if any((coord in route2) for coord in route1):\n",
        "                        rider = assigned_order.split('_')[0]\n",
        "                        if len(riders[rider]) < max_rider_capacity:\n",
        "                            riders[rider].append(order)\n",
        "                            assigned_orders.add(order)\n",
        "                            assigned_to_rider = True\n",
        "                            break\n",
        "\n",
        "        if not assigned_to_rider:\n",
        "            rider_id = f\"rider_{len(riders) + 1}\"\n",
        "            riders[rider_id].append(order)\n",
        "            assigned_orders.add(order)\n",
        "\n",
        "        elif not assigned_to_rider:\n",
        "            for assigned_order in assigned_orders:\n",
        "                if abs(orders_details[assigned_order]['expected_ready_time'] - ready_time) <= 10:\n",
        "                    route1 = findroute([orders_details[assigned_order]['kitchen'], orders_details[assigned_order]['customer']])\n",
        "                    route2 = findroute([kitchen, customer])\n",
        "                    if any((coord in route2) for coord in route1):\n",
        "                        rider = assigned_order.split('_')[0]\n",
        "                        if len(riders[rider]) < max_rider_capacity:\n",
        "                            riders[rider].append(order)\n",
        "                            assigned_orders.add(order)\n",
        "                            assigned_to_rider = True\n",
        "                            break\n",
        "\n",
        "\n",
        "\n",
        "        elif not assigned_to_rider:\n",
        "            for assigned_order in assigned_orders:\n",
        "                if (orders_details[assigned_order]['kitchen'] == kitchen and\n",
        "                        abs(orders_details[assigned_order]['expected_ready_time'] - ready_time) <= 10):\n",
        "                    route1 = findroute([orders_details[assigned_order]['customer'], customer])\n",
        "                    route2 = findroute([customer, orders_details[assigned_order]['customer']])\n",
        "                    if any((coord in route2) for coord in route1):\n",
        "                        rider = assigned_order.split('_')[0]\n",
        "                        if len(riders[rider]) < max_rider_capacity:\n",
        "                            riders[rider].append(order)\n",
        "                            assigned_orders.add(order)\n",
        "                            assigned_to_rider = True\n",
        "                            break\n",
        "\n",
        "    return riders\n",
        "\n",
        "assigned_orders = assign_orders(orders_details, max_rider_capacity)\n",
        "#for rider, assigned in assigned_orders.items():\n",
        " #   print(f\"Rider {rider}: Orders {assigned}\")\n",
        "print(assigned_orders)\n",
        "for i in range(1,10):\n",
        "  if 'order'+str(i) in assigned_orders:\n",
        "    assigned_orders['rider_'+str(i)].extend(assigned_orders['order'+str(i)])\n",
        "    assigned_orders['rider_'+str(i)]=list(set(assigned_orders['rider_'+str(i)]))\n",
        "    del assigned_orders['order'+str(i)]\n",
        "for rider, assigned in assigned_orders.items():\n",
        "    print(f\" {rider}: Orders {assigned}\")"
      ],
      "metadata": {
        "colab": {
          "base_uri": "https://localhost:8080/"
        },
        "id": "LujUBjyE0bmP",
        "outputId": "f2385d81-8dc0-4e42-fc81-ba561d993156"
      },
      "execution_count": 99,
      "outputs": [
        {
          "output_type": "stream",
          "name": "stdout",
          "text": [
            "defaultdict(<class 'list'>, {'rider_1': ['order1'], 'order1': ['order2'], 'rider_3': ['order3'], 'rider_4': ['order4'], 'rider_5': ['order5']})\n",
            " rider_1: Orders ['order2', 'order1']\n",
            " rider_3: Orders ['order3']\n",
            " rider_4: Orders ['order4']\n",
            " rider_5: Orders ['order5']\n"
          ]
        }
      ]
    },
    {
      "cell_type": "markdown",
      "source": [],
      "metadata": {
        "id": "pTnk1LuW73el"
      }
    },
    {
      "cell_type": "code",
      "source": [
        "for i in range(1,10):\n",
        "  if 'order'+str(i) in assigned_orders:\n",
        "    assigned_orders['rider_'+str(i)].extend(assigned_orders['order'+str(i)])\n",
        "    assigned_orders['rider_'+str(i)]=list(set(assigned_orders['rider_'+str(i)]))\n",
        "    del assigned_orders['order'+str(i)]"
      ],
      "metadata": {
        "id": "rftdphXwmw_x"
      },
      "execution_count": 100,
      "outputs": []
    },
    {
      "cell_type": "code",
      "source": [
        "kitchenmatrix"
      ],
      "metadata": {
        "id": "jVa1-WZ_rGuV",
        "colab": {
          "base_uri": "https://localhost:8080/"
        },
        "outputId": "92fb5edc-0ba3-4da3-9591-f74dbfbb5f6f"
      },
      "execution_count": 101,
      "outputs": [
        {
          "output_type": "execute_result",
          "data": {
            "text/plain": [
              "[[0.0, 20.27, 20.65, 15.33],\n",
              " [20.67, 0.0, 16.76, 14.06],\n",
              " [19.82, 16.42, 0.0, 5.57],\n",
              " [11.53, 14.71, 5.85, 0.0]]"
            ]
          },
          "metadata": {},
          "execution_count": 101
        }
      ]
    },
    {
      "cell_type": "code",
      "source": [
        "assigned_orders"
      ],
      "metadata": {
        "colab": {
          "base_uri": "https://localhost:8080/"
        },
        "id": "bklbnJpi5PcF",
        "outputId": "5e68d7c3-7f38-403b-9544-773b422727ce"
      },
      "execution_count": 102,
      "outputs": [
        {
          "output_type": "execute_result",
          "data": {
            "text/plain": [
              "defaultdict(list,\n",
              "            {'rider_1': ['order2', 'order1'],\n",
              "             'rider_3': ['order3'],\n",
              "             'rider_4': ['order4'],\n",
              "             'rider_5': ['order5']})"
            ]
          },
          "metadata": {},
          "execution_count": 102
        }
      ]
    },
    {
      "cell_type": "markdown",
      "source": [
        "display the routes in map\n"
      ],
      "metadata": {
        "id": "Ywz6HHmVWLMu"
      }
    },
    {
      "cell_type": "code",
      "source": [
        "import operator\n",
        "from functools import reduce\n",
        "colors=['blue','cyan','green','black','magenta','red','white','yellow']\n",
        "i=0\n",
        "for rider,details in assigned_orders.items():\n",
        "  for ord in details:\n",
        "   # m = folium.Map(location=list([ 10.997480123197462, 77.01116519467452]), tiles=\"cartodbpositron\", zoom_start=13)\n",
        "\n",
        "    k=orders_details[ord]['kitchen']\n",
        "    c=orders_details[ord]['customer']\n",
        "    coords=[kitchens_details[k],customers_details[c]]\n",
        "    route = client.directions(coordinates=reverse(coords),\n",
        "                          profile='foot-walking',\n",
        "                          format='geojson')\n",
        "    waypoints = list(dict.fromkeys(reduce(operator.concat, list(map(lambda step: step['way_points'], route['features'][0]['properties']['segments'][0]['steps'])))))\n",
        "\n",
        "    folium.PolyLine(locations=[list(reversed(coord)) for coord in route['features'][0]['geometry']['coordinates']], color=colors[i]).add_to(m)\n",
        "\n",
        "   # folium.PolyLine(locations=[list(reversed(route['features'][0]['geometry']['coordinates'][index])) for index in waypoints], color=colors[i]).add_to(m)\n",
        "  i+=1\n",
        "m\n",
        "\n"
      ],
      "metadata": {
        "id": "R8AYz_A-8LLF",
        "colab": {
          "base_uri": "https://localhost:8080/",
          "height": 490
        },
        "outputId": "716a34e4-e570-496e-bffb-af78db1df21a"
      },
      "execution_count": 103,
      "outputs": [
        {
          "output_type": "execute_result",
          "data": {
            "text/plain": [
              "<folium.folium.Map at 0x79b61a942500>"
            ],
            "text/html": [
              "<div style=\"width:100%;\"><div style=\"position:relative;width:100%;height:0;padding-bottom:60%;\"><span style=\"color:#565656\">Make this Notebook Trusted to load map: File -> Trust Notebook</span><iframe srcdoc=\"&lt;!DOCTYPE html&gt;\n",
              "&lt;html&gt;\n",
              "&lt;head&gt;\n",
              "    \n",
              "    &lt;meta http-equiv=&quot;content-type&quot; content=&quot;text/html; charset=UTF-8&quot; /&gt;\n",
              "    \n",
              "        &lt;script&gt;\n",
              "            L_NO_TOUCH = false;\n",
              "            L_DISABLE_3D = false;\n",
              "        &lt;/script&gt;\n",
              "    \n",
              "    &lt;style&gt;html, body {width: 100%;height: 100%;margin: 0;padding: 0;}&lt;/style&gt;\n",
              "    &lt;style&gt;#map {position:absolute;top:0;bottom:0;right:0;left:0;}&lt;/style&gt;\n",
              "    &lt;script src=&quot;https://cdn.jsdelivr.net/npm/leaflet@1.9.3/dist/leaflet.js&quot;&gt;&lt;/script&gt;\n",
              "    &lt;script src=&quot;https://code.jquery.com/jquery-1.12.4.min.js&quot;&gt;&lt;/script&gt;\n",
              "    &lt;script src=&quot;https://cdn.jsdelivr.net/npm/bootstrap@5.2.2/dist/js/bootstrap.bundle.min.js&quot;&gt;&lt;/script&gt;\n",
              "    &lt;script src=&quot;https://cdnjs.cloudflare.com/ajax/libs/Leaflet.awesome-markers/2.0.2/leaflet.awesome-markers.js&quot;&gt;&lt;/script&gt;\n",
              "    &lt;link rel=&quot;stylesheet&quot; href=&quot;https://cdn.jsdelivr.net/npm/leaflet@1.9.3/dist/leaflet.css&quot;/&gt;\n",
              "    &lt;link rel=&quot;stylesheet&quot; href=&quot;https://cdn.jsdelivr.net/npm/bootstrap@5.2.2/dist/css/bootstrap.min.css&quot;/&gt;\n",
              "    &lt;link rel=&quot;stylesheet&quot; href=&quot;https://netdna.bootstrapcdn.com/bootstrap/3.0.0/css/bootstrap.min.css&quot;/&gt;\n",
              "    &lt;link rel=&quot;stylesheet&quot; href=&quot;https://cdn.jsdelivr.net/npm/@fortawesome/fontawesome-free@6.2.0/css/all.min.css&quot;/&gt;\n",
              "    &lt;link rel=&quot;stylesheet&quot; href=&quot;https://cdnjs.cloudflare.com/ajax/libs/Leaflet.awesome-markers/2.0.2/leaflet.awesome-markers.css&quot;/&gt;\n",
              "    &lt;link rel=&quot;stylesheet&quot; href=&quot;https://cdn.jsdelivr.net/gh/python-visualization/folium/folium/templates/leaflet.awesome.rotate.min.css&quot;/&gt;\n",
              "    \n",
              "            &lt;meta name=&quot;viewport&quot; content=&quot;width=device-width,\n",
              "                initial-scale=1.0, maximum-scale=1.0, user-scalable=no&quot; /&gt;\n",
              "            &lt;style&gt;\n",
              "                #map_9c4bebe8f2650710fe556e691f74c907 {\n",
              "                    position: relative;\n",
              "                    width: 100.0%;\n",
              "                    height: 100.0%;\n",
              "                    left: 0.0%;\n",
              "                    top: 0.0%;\n",
              "                }\n",
              "                .leaflet-container { font-size: 1rem; }\n",
              "            &lt;/style&gt;\n",
              "        \n",
              "&lt;/head&gt;\n",
              "&lt;body&gt;\n",
              "    \n",
              "    \n",
              "            &lt;div class=&quot;folium-map&quot; id=&quot;map_9c4bebe8f2650710fe556e691f74c907&quot; &gt;&lt;/div&gt;\n",
              "        \n",
              "&lt;/body&gt;\n",
              "&lt;script&gt;\n",
              "    \n",
              "    \n",
              "            var map_9c4bebe8f2650710fe556e691f74c907 = L.map(\n",
              "                &quot;map_9c4bebe8f2650710fe556e691f74c907&quot;,\n",
              "                {\n",
              "                    center: [10.997480123197462, 77.01116519467452],\n",
              "                    crs: L.CRS.EPSG3857,\n",
              "                    zoom: 13,\n",
              "                    zoomControl: true,\n",
              "                    preferCanvas: false,\n",
              "                }\n",
              "            );\n",
              "\n",
              "            \n",
              "\n",
              "        \n",
              "    \n",
              "            var tile_layer_7fa6a989a0c4b3d05e6cb464204783b3 = L.tileLayer(\n",
              "                &quot;https://cartodb-basemaps-{s}.global.ssl.fastly.net/light_all/{z}/{x}/{y}.png&quot;,\n",
              "                {&quot;attribution&quot;: &quot;\\u0026copy; \\u003ca target=\\&quot;_blank\\&quot; href=\\&quot;http://www.openstreetmap.org/copyright\\&quot;\\u003eOpenStreetMap\\u003c/a\\u003e contributors \\u0026copy; \\u003ca target=\\&quot;_blank\\&quot; href=\\&quot;http://cartodb.com/attributions\\&quot;\\u003eCartoDB\\u003c/a\\u003e, CartoDB \\u003ca target=\\&quot;_blank\\&quot; href =\\&quot;http://cartodb.com/attributions\\&quot;\\u003eattributions\\u003c/a\\u003e&quot;, &quot;detectRetina&quot;: false, &quot;maxNativeZoom&quot;: 18, &quot;maxZoom&quot;: 18, &quot;minZoom&quot;: 0, &quot;noWrap&quot;: false, &quot;opacity&quot;: 1, &quot;subdomains&quot;: &quot;abc&quot;, &quot;tms&quot;: false}\n",
              "            ).addTo(map_9c4bebe8f2650710fe556e691f74c907);\n",
              "        \n",
              "    \n",
              "            var poly_line_62cfef7d6506b2730013366de895a941 = L.polyline(\n",
              "                [[10.997441, 77.011172], [10.997315, 77.010409], [10.997273, 77.010125], [10.997386, 77.010105], [10.998564, 77.009611], [10.998932, 77.009518], [10.99935, 77.009413], [10.999781, 77.009302], [11.000229, 77.009186], [11.000804, 77.009059], [11.000673, 77.00835], [11.000716, 77.00806], [11.000566, 77.007211], [11.000544, 77.007086], [11.000452, 77.006567], [11.000189, 77.005315], [11.000595, 77.004859], [11.001329, 77.004065], [11.001621, 77.003789], [11.001367, 77.003556], [11.001138, 77.003308], [11.000994, 77.002999], [11.000865, 77.002525], [11.000833, 77.002226], [11.000755, 77.001488], [11.00071, 77.001364], [11.000697, 77.001248], [11.000934, 77.001018], [11.001155, 77.000926], [11.001122, 77.000777], [11.001182, 77.000643], [11.001506, 77.000604], [11.001775, 77.000541], [11.001968, 77.000405], [11.002512, 76.999941], [11.003033, 76.999558], [11.003189, 76.999428], [11.003484, 76.998364], [11.003682, 76.997657], [11.004, 76.996613], [11.004288, 76.995761], [11.004349, 76.995584], [11.004533, 76.995279], [11.004787, 76.994857], [11.004888, 76.994741], [11.005304, 76.994529], [11.005411, 76.994595], [11.005698, 76.994759], [11.005752, 76.994756], [11.006019, 76.994851], [11.006601, 76.994896], [11.006818, 76.994928], [11.006913, 76.994942], [11.007053, 76.994967], [11.007269, 76.994979], [11.007534, 76.994939], [11.008558, 76.994605], [11.009568, 76.994215], [11.010161, 76.993966], [11.010367, 76.993821], [11.010463, 76.993723], [11.010614, 76.993472], [11.010691, 76.993087], [11.010843, 76.992167], [11.010865, 76.991754], [11.011821, 76.991131], [11.012008, 76.990956], [11.012172, 76.990801], [11.012353, 76.990657], [11.012434, 76.990593], [11.012822, 76.990134], [11.013323, 76.98944], [11.013493, 76.989187], [11.013699, 76.988904], [11.013926, 76.988592], [11.014458, 76.987981], [11.014147, 76.987557], [11.013185, 76.98651], [11.012952, 76.986239], [11.013068, 76.986147], [11.013035, 76.98611], [11.012959, 76.986025], [11.012853, 76.985903], [11.01266, 76.98568], [11.012553, 76.985555], [11.012305, 76.985177], [11.011078, 76.983018]],\n",
              "                {&quot;bubblingMouseEvents&quot;: true, &quot;color&quot;: &quot;blue&quot;, &quot;dashArray&quot;: null, &quot;dashOffset&quot;: null, &quot;fill&quot;: false, &quot;fillColor&quot;: &quot;blue&quot;, &quot;fillOpacity&quot;: 0.2, &quot;fillRule&quot;: &quot;evenodd&quot;, &quot;lineCap&quot;: &quot;round&quot;, &quot;lineJoin&quot;: &quot;round&quot;, &quot;noClip&quot;: false, &quot;opacity&quot;: 1.0, &quot;smoothFactor&quot;: 1.0, &quot;stroke&quot;: true, &quot;weight&quot;: 3}\n",
              "            ).addTo(map_9c4bebe8f2650710fe556e691f74c907);\n",
              "        \n",
              "    \n",
              "            var poly_line_732a152df4dd7948d4da4f5474d799d7 = L.polyline(\n",
              "                [[10.997441, 77.011172], [10.997273, 77.010125], [11.000804, 77.009059], [11.000189, 77.005315], [11.001621, 77.003789], [11.00071, 77.001364], [11.001155, 77.000926], [11.001182, 77.000643], [11.003484, 76.998364], [11.005304, 76.994529], [11.005698, 76.994759], [11.010865, 76.991754], [11.014458, 76.987981], [11.012952, 76.986239], [11.013068, 76.986147], [11.011078, 76.983018]],\n",
              "                {&quot;bubblingMouseEvents&quot;: true, &quot;color&quot;: &quot;red&quot;, &quot;dashArray&quot;: null, &quot;dashOffset&quot;: null, &quot;fill&quot;: false, &quot;fillColor&quot;: &quot;red&quot;, &quot;fillOpacity&quot;: 0.2, &quot;fillRule&quot;: &quot;evenodd&quot;, &quot;lineCap&quot;: &quot;round&quot;, &quot;lineJoin&quot;: &quot;round&quot;, &quot;noClip&quot;: false, &quot;opacity&quot;: 1.0, &quot;smoothFactor&quot;: 1.0, &quot;stroke&quot;: true, &quot;weight&quot;: 3}\n",
              "            ).addTo(map_9c4bebe8f2650710fe556e691f74c907);\n",
              "        \n",
              "    \n",
              "            var poly_line_4558c46ac54940676c8909717b1c6fa0 = L.polyline(\n",
              "                [[11.055684, 77.065822], [11.055532, 77.065838], [11.055449, 77.065699], [11.055357, 77.065487], [11.055273, 77.065545], [11.05524, 77.065593], [11.055221, 77.065659], [11.055143, 77.066208], [11.055041, 77.066562], [11.054728, 77.066469], [11.054367, 77.066414], [11.053688, 77.066343], [11.052375, 77.066241], [11.052379, 77.066554], [11.052379, 77.066858], [11.052376, 77.06703], [11.051978, 77.066994], [11.051443, 77.067026], [11.051029, 77.066971], [11.051089, 77.066246], [11.051086, 77.06597], [11.051105, 77.065667], [11.051085, 77.065393], [11.050786, 77.065235], [11.050715, 77.065211], [11.050511, 77.065188], [11.050627, 77.064604], [11.050663, 77.064486], [11.050673, 77.064332], [11.050449, 77.064339], [11.050175, 77.064321], [11.04968, 77.06429], [11.049411, 77.064259], [11.048877, 77.064226], [11.048746, 77.064243], [11.048297, 77.064317], [11.047942, 77.064392], [11.047255, 77.064493], [11.047028, 77.064543], [11.045647, 77.064911], [11.044603, 77.065073], [11.044224, 77.065179], [11.043707, 77.065296], [11.043023, 77.06542], [11.042754, 77.065456], [11.042538, 77.065453], [11.042355, 77.06542], [11.042163, 77.06536], [11.041917, 77.065323], [11.040296, 77.065296], [11.039992, 77.065299], [11.037865, 77.065447], [11.0373, 77.065399], [11.036262, 77.065269], [11.035962, 77.065217], [11.035692, 77.065211], [11.035095, 77.065262], [11.034926, 77.065256], [11.034624, 77.065223], [11.034036, 77.065163], [11.033737, 77.065181], [11.033, 77.06528], [11.032619, 77.065301], [11.031968, 77.065404], [11.030751, 77.065637], [11.029992, 77.065699], [11.029451, 77.065711], [11.028114, 77.065792], [11.027667, 77.065814], [11.027135, 77.065916], [11.026611, 77.065973], [11.025954, 77.066146], [11.02585, 77.065761], [11.025565, 77.06583], [11.025281, 77.065916], [11.024981, 77.066023], [11.024886, 77.065884], [11.024818, 77.065664], [11.024654, 77.065364], [11.024512, 77.065063], [11.024323, 77.06465], [11.024175, 77.064446], [11.023752, 77.064617], [11.023617, 77.064655], [11.023422, 77.064355], [11.023374, 77.064135], [11.023178, 77.063441], [11.022763, 77.063502], [11.022392, 77.062161], [11.022288, 77.061785], [11.022171, 77.061357], [11.022057, 77.060938], [11.021927, 77.06046], [11.021794, 77.05997], [11.021682, 77.059542], [11.021587, 77.059181], [11.021485, 77.058789], [11.021354, 77.058288], [11.021112, 77.05737], [11.021055, 77.057161], [11.02081, 77.056252], [11.020293, 77.054337], [11.020005, 77.05334], [11.019708, 77.053399], [11.019517, 77.052816], [11.019458, 77.052636], [11.019435, 77.052621], [11.019205, 77.052666], [11.019152, 77.052655], [11.019131, 77.052634], [11.01901, 77.052307], [11.018573, 77.051117], [11.018078, 77.050601], [11.01763, 77.050214], [11.017451, 77.050139], [11.01722, 77.050086], [11.01643, 77.049528], [11.015435, 77.049694], [11.01515, 77.049705], [11.014866, 77.049673], [11.014252, 77.049495], [11.014169, 77.049478], [11.0127, 77.048964], [11.012242, 77.048788], [11.012117, 77.048733], [11.011994, 77.048719], [11.011893, 77.048741], [11.01161, 77.048785], [11.011402, 77.048815], [11.011311, 77.048828], [11.01109, 77.04886], [11.010651, 77.048923], [11.010454, 77.048971], [11.010348, 77.048996], [11.010169, 77.048394], [11.009954, 77.048465], [11.009545, 77.048569], [11.009126, 77.048697], [11.008918, 77.048705], [11.008697, 77.048749], [11.008386, 77.048812], [11.008213, 77.048783], [11.007747, 77.04874], [11.007657, 77.048763], [11.007311, 77.048855], [11.007205, 77.048883], [11.007085, 77.048983], [11.006903, 77.048929], [11.005884, 77.049182], [11.005669, 77.049235], [11.005399, 77.049363], [11.005301, 77.049389], [11.005229, 77.049408], [11.005091, 77.049445], [11.004903, 77.049456], [11.004597, 77.049501], [11.00438, 77.049501], [11.004296, 77.04951], [11.003769, 77.049655], [11.003192, 77.049665], [11.003322, 77.049071], [11.003236, 77.049073], [11.002766, 77.049063], [11.002449, 77.049064], [11.002366, 77.049078], [11.00196, 77.04914], [11.001135, 77.049244], [11.000823, 77.049373], [10.99975, 77.049645], [10.999615, 77.049696], [10.999524, 77.049776], [10.999444, 77.049939], [10.999358, 77.050131], [10.999298, 77.050382], [10.99929, 77.050817], [10.998937, 77.050899], [10.999154, 77.052451], [10.999179, 77.052634], [10.999226, 77.052967], [10.99923, 77.052996], [10.999271, 77.053286], [10.999287, 77.053403], [10.999398, 77.054197], [10.999548, 77.055271], [10.99914, 77.055269], [10.998858, 77.05531], [10.998662, 77.055339], [10.998382, 77.055397], [10.998365, 77.055332], [10.997343, 77.055583], [10.997352, 77.055615], [10.996936, 77.055727], [10.997046, 77.056101], [10.996414, 77.056289], [10.996599, 77.056668], [10.996759, 77.056616], [10.996796, 77.056753], [10.996368, 77.05697], [10.99587, 77.057221], [10.996134, 77.057566], [10.995942, 77.05748], [10.995581, 77.057412], [10.995419, 77.057431], [10.995292, 77.057465], [10.995166, 77.057543], [10.994998, 77.057695], [10.99435, 77.058199], [10.994158, 77.058317], [10.993468, 77.058519], [10.993201, 77.058567], [10.993011, 77.058577], [10.992674, 77.058683], [10.992386, 77.058739], [10.992264, 77.05866], [10.991085, 77.059034], [10.990809, 77.059076], [10.990672, 77.059049], [10.99064, 77.059042], [10.990464, 77.058804], [10.990362, 77.05869], [10.9892, 77.058929], [10.988936, 77.05895], [10.988789, 77.058511], [10.988636, 77.058515], [10.988566, 77.058501], [10.988461, 77.058481], [10.987809, 77.058594], [10.987681, 77.058539], [10.98735, 77.058016], [10.987232, 77.057927], [10.986917, 77.057755], [10.98651, 77.057582], [10.986284, 77.057486], [10.985928, 77.057335], [10.985691, 77.057214], [10.985593, 77.057101], [10.985414, 77.056705], [10.985391, 77.056689], [10.984867, 77.05632], [10.984238, 77.055913], [10.983567, 77.055473], [10.983365, 77.055457], [10.983286, 77.055311], [10.983107, 77.055107], [10.982865, 77.054898], [10.982739, 77.054833], [10.982318, 77.054914], [10.982303, 77.054688], [10.982294, 77.054557], [10.982256, 77.054463], [10.982158, 77.054224], [10.982076, 77.054014], [10.982013, 77.053852], [10.9819, 77.053559], [10.98187, 77.053354], [10.98186, 77.053288], [10.982002, 77.052677], [10.982131, 77.052009], [10.982226, 77.051352], [10.982437, 77.050354], [10.982442, 77.050037], [10.98242, 77.049814], [10.982316, 77.049305], [10.98215, 77.048612], [10.982141, 77.048575], [10.982155, 77.048212], [10.981797, 77.04786], [10.981746, 77.047299], [10.981564, 77.04688], [10.981221, 77.046433], [10.980969, 77.046105], [10.980831, 77.045889], [10.980851, 77.045768], [10.980909, 77.045699], [10.981581, 77.045424], [10.981631, 77.045352], [10.981422, 77.044285], [10.981396, 77.044217], [10.9817, 77.044209], [10.981849, 77.043549], [10.982005, 77.042703], [10.982057, 77.04237], [10.982074, 77.042189], [10.982059, 77.042066], [10.982019, 77.041732], [10.98198, 77.041305], [10.981954, 77.041027], [10.981951, 77.040612], [10.981948, 77.040188], [10.981944, 77.039868], [10.981949, 77.03972], [10.981944, 77.039532], [10.981882, 77.039185], [10.981797, 77.038795], [10.981757, 77.038499], [10.981744, 77.038405], [10.981714, 77.038052], [10.981715, 77.037464], [10.981732, 77.037058], [10.981736, 77.037004], [10.981768, 77.036608], [10.981805, 77.036165], [10.981826, 77.036034], [10.981818, 77.035843], [10.980787, 77.036067], [10.980693, 77.035939], [10.980699, 77.035701], [10.980571, 77.035739], [10.980344, 77.035728], [10.980304, 77.0353], [10.98029, 77.035157], [10.980267, 77.034905], [10.980239, 77.034518], [10.980225, 77.034312], [10.980213, 77.034137], [10.979442, 77.034197], [10.979381, 77.033371], [10.979492, 77.033366], [10.979374, 77.032512], [10.979406, 77.032421], [10.979253, 77.031208], [10.979163, 77.03108], [10.978719, 77.031154], [10.978665, 77.030455], [10.978483, 77.030473], [10.97839, 77.029838], [10.978595, 77.029795], [10.978533, 77.029417], [10.97846, 77.028962], [10.978402, 77.028828], [10.978194, 77.028847], [10.977852, 77.028877], [10.977557, 77.028903], [10.976926, 77.028958], [10.976714, 77.028915], [10.976723, 77.02868], [10.976659, 77.028165], [10.976174, 77.02806], [10.976276, 77.02752], [10.976148, 77.027479], [10.975624, 77.027527], [10.974426, 77.027481], [10.974135, 77.026885], [10.973846, 77.026195], [10.973424, 77.026374], [10.973095, 77.0265], [10.972722, 77.026642], [10.972132, 77.026867], [10.971964, 77.026859], [10.971803, 77.026708], [10.971358, 77.026015], [10.971197, 77.025879], [10.970195, 77.025993], [10.969898, 77.02604], [10.969512, 77.026077], [10.968957, 77.026041], [10.968583, 77.026032], [10.968366, 77.026028], [10.96787, 77.026017], [10.967298, 77.02603], [10.967108, 77.026034], [10.966781, 77.02612], [10.966704, 77.02614], [10.966202, 77.02615], [10.96569, 77.026231], [10.965271, 77.026255], [10.96513, 77.026291], [10.965097, 77.026387], [10.96498, 77.027499], [10.964913, 77.027584], [10.964839, 77.027617], [10.963298, 77.02773], [10.962673, 77.027819], [10.962238, 77.027831], [10.961766, 77.027893], [10.961338, 77.027973], [10.961109, 77.028066], [10.961026, 77.027986], [10.960573, 77.028129], [10.960522, 77.028175], [10.960502, 77.028258], [10.960531, 77.029253], [10.960492, 77.029363], [10.960374, 77.029446], [10.959881, 77.029602], [10.959025, 77.029771], [10.95862, 77.029744], [10.958314, 77.029744], [10.957672, 77.029663], [10.957303, 77.029722], [10.955423, 77.030157], [10.955049, 77.030361], [10.953843, 77.03065], [10.9537, 77.030715], [10.953653, 77.030833], [10.953732, 77.031493], [10.953611, 77.031637], [10.953263, 77.031696], [10.952363, 77.031643], [10.951725, 77.03175], [10.950351, 77.031938], [10.949729, 77.031911], [10.948966, 77.0319], [10.947739, 77.032169], [10.946743, 77.032469], [10.945437, 77.03278], [10.944742, 77.032962], [10.94442, 77.033075], [10.944031, 77.033295], [10.943162, 77.033724], [10.942888, 77.033896], [10.942398, 77.033789], [10.941729, 77.03337], [10.941476, 77.033413], [10.941087, 77.033526], [10.940607, 77.033477], [10.940328, 77.03337], [10.939959, 77.033188], [10.93928, 77.032957], [10.93859, 77.032775], [10.937531, 77.032576], [10.937105, 77.032163], [10.93691, 77.032072], [10.936694, 77.032024], [10.936083, 77.032169], [10.935272, 77.032437], [10.934745, 77.032474], [10.934039, 77.032802], [10.933334, 77.033349], [10.932308, 77.033983], [10.932096, 77.03411], [10.931717, 77.034411], [10.931495, 77.034502], [10.931153, 77.034593], [10.930721, 77.034105], [10.929446, 77.034325], [10.927024, 77.034877], [10.92593, 77.035029], [10.925119, 77.035831], [10.924128, 77.036729]],\n",
              "                {&quot;bubblingMouseEvents&quot;: true, &quot;color&quot;: &quot;blue&quot;, &quot;dashArray&quot;: null, &quot;dashOffset&quot;: null, &quot;fill&quot;: false, &quot;fillColor&quot;: &quot;blue&quot;, &quot;fillOpacity&quot;: 0.2, &quot;fillRule&quot;: &quot;evenodd&quot;, &quot;lineCap&quot;: &quot;round&quot;, &quot;lineJoin&quot;: &quot;round&quot;, &quot;noClip&quot;: false, &quot;opacity&quot;: 1.0, &quot;smoothFactor&quot;: 1.0, &quot;stroke&quot;: true, &quot;weight&quot;: 3}\n",
              "            ).addTo(map_9c4bebe8f2650710fe556e691f74c907);\n",
              "        \n",
              "    \n",
              "            var poly_line_c81ff3dafa4f392d02303d9cdf51310b = L.polyline(\n",
              "                [[11.055684, 77.065822], [11.055532, 77.065838], [11.056082, 77.066719], [11.056648, 77.067485], [11.057417, 77.068574], [11.05752, 77.068777], [11.057642, 77.069094], [11.05776, 77.06978], [11.057764, 77.069863], [11.057929, 77.069872], [11.057952, 77.069903], [11.057962, 77.070248], [11.05795, 77.070304], [11.057767, 77.07032], [11.057766, 77.071135], [11.05782, 77.073808], [11.057882, 77.074748], [11.057982, 77.075737], [11.058181, 77.077075], [11.058405, 77.078555], [11.058598, 77.079474], [11.058807, 77.080178], [11.059242, 77.08133], [11.059149, 77.081376], [11.059045, 77.081382], [11.059025, 77.081891], [11.058941, 77.082422], [11.058752, 77.083002], [11.058783, 77.083157], [11.058778, 77.083463], [11.05908, 77.083417], [11.05912, 77.083667], [11.059518, 77.08368], [11.060032, 77.0836], [11.06058, 77.084939], [11.06073, 77.085304], [11.061087, 77.086169], [11.061391, 77.086984], [11.061493, 77.086962], [11.061911, 77.088091], [11.062158, 77.088605], [11.062522, 77.089297], [11.062685, 77.089678], [11.062835, 77.090155], [11.062936, 77.090545], [11.063049, 77.091102], [11.06331, 77.091427], [11.063906, 77.092267], [11.064731, 77.093581], [11.06486, 77.093557]],\n",
              "                {&quot;bubblingMouseEvents&quot;: true, &quot;color&quot;: &quot;blue&quot;, &quot;dashArray&quot;: null, &quot;dashOffset&quot;: null, &quot;fill&quot;: false, &quot;fillColor&quot;: &quot;blue&quot;, &quot;fillOpacity&quot;: 0.2, &quot;fillRule&quot;: &quot;evenodd&quot;, &quot;lineCap&quot;: &quot;round&quot;, &quot;lineJoin&quot;: &quot;round&quot;, &quot;noClip&quot;: false, &quot;opacity&quot;: 1.0, &quot;smoothFactor&quot;: 1.0, &quot;stroke&quot;: true, &quot;weight&quot;: 3}\n",
              "            ).addTo(map_9c4bebe8f2650710fe556e691f74c907);\n",
              "        \n",
              "    \n",
              "            var poly_line_fb5a0d125ada93915fcd8f05652ac6c6 = L.polyline(\n",
              "                [[10.958971, 76.985551], [10.960785, 76.986174], [10.960869, 76.98616], [10.960943, 76.98621], [10.961575, 76.986469], [10.961816, 76.986614], [10.962366, 76.986819], [10.963823, 76.987337], [10.964521, 76.987582], [10.96474, 76.987597], [10.964355, 76.988634], [10.964332, 76.988722], [10.964377, 76.988801], [10.9658, 76.989599], [10.966573, 76.989914], [10.966802, 76.990069], [10.967023, 76.990252], [10.967221, 76.990363], [10.967331, 76.990385], [10.967413, 76.990454], [10.967531, 76.990669], [10.96772, 76.990829], [10.967918, 76.990901], [10.968076, 76.991114], [10.968223, 76.991274], [10.968612, 76.991577], [10.968681, 76.991639], [10.96992, 76.991409], [10.970323, 76.991348], [10.970411, 76.991272], [10.970564, 76.991225], [10.970633, 76.990848], [10.970897, 76.990753], [10.970999, 76.991925], [10.971016, 76.992124], [10.97086, 76.992199], [10.970813, 76.992572], [10.970694, 76.992947], [10.972913, 76.994509], [10.973155, 76.994632], [10.973573, 76.994887], [10.974175, 76.995362], [10.974731, 76.995844], [10.975162, 76.99616], [10.975259, 76.996213], [10.975365, 76.996234], [10.975502, 76.996224], [10.976037, 76.99618], [10.976565, 76.996151], [10.976754, 76.996136], [10.977665, 76.995982], [10.977859, 76.996028], [10.977997, 76.996144], [10.978063, 76.996241], [10.978097, 76.996378], [10.978108, 76.997034], [10.978148, 76.997191], [10.978292, 76.99771], [10.97841, 76.998022], [10.978565, 76.998321], [10.978806, 76.998662], [10.979922, 77.000029], [10.980068, 77.000203], [10.981195, 77.001153], [10.981942, 77.001702], [10.982355, 77.001944], [10.982749, 77.002143], [10.98311, 77.002282], [10.983247, 77.001973], [10.983273, 77.001796], [10.983271, 77.001337], [10.983476, 77.001305], [10.983537, 77.001265], [10.983553, 77.001206], [10.983419, 77.00075], [10.983284, 77.00037], [10.982816, 77.000386], [10.982779, 77.000005], [10.982744, 76.999646], [10.982707, 76.999265], [10.982689, 76.999088], [10.98267, 76.998868], [10.983179, 76.998846], [10.984164, 76.998734], [10.984132, 76.998549], [10.984355, 76.998549], [10.984771, 76.99862], [10.98482, 76.99878], [10.984937, 76.999166], [10.985627, 76.998902], [10.986125, 76.998796], [10.986401, 76.998789], [10.986635, 76.999252], [10.987207, 76.998999], [10.987437, 76.999587], [10.987899, 77.000015], [10.988606, 76.999483], [10.988843, 76.999869], [10.988891, 76.999936], [10.989234, 76.999642], [10.989552, 76.99942], [10.989832, 76.999235], [10.990197, 76.998999], [10.990615, 77.000874], [10.990874, 77.000808], [10.991006, 77.001653], [10.991071, 77.002053], [10.990676, 77.002142], [10.990824, 77.003075], [10.990953, 77.003739], [10.990844, 77.003823], [10.990827, 77.003939], [10.991086, 77.004782], [10.990867, 77.004863], [10.99093, 77.005036], [10.990943, 77.005347], [10.991056, 77.005682], [10.991189, 77.006278], [10.991236, 77.006685], [10.991595, 77.007751], [10.991718, 77.007911], [10.991881, 77.007972], [10.991951, 77.008066], [10.991954, 77.008473], [10.992057, 77.008818], [10.99203, 77.009475], [10.992067, 77.009506], [10.99224, 77.009489], [10.992329, 77.009502], [10.992356, 77.009527], [10.992379, 77.009633], [10.992369, 77.009949], [10.992383, 77.010565], [10.992459, 77.011094], [10.992652, 77.011738], [10.992752, 77.012076], [10.992938, 77.012882], [10.992961, 77.012937], [10.993047, 77.013139], [10.993084, 77.013168], [10.99321, 77.013271], [10.993397, 77.013383], [10.993825, 77.013491], [10.993948, 77.01361], [10.994111, 77.01385], [10.994191, 77.014019], [10.994238, 77.014277], [10.994287, 77.014764], [10.994404, 77.015372], [10.99442, 77.015461], [10.99449, 77.015839], [10.994517, 77.015988], [10.994744, 77.016644], [10.994763, 77.016915], [10.994916, 77.017517], [10.994951, 77.017656], [10.995066, 77.017955], [10.995335, 77.017939], [10.995767, 77.017912], [10.996274, 77.017881], [10.996552, 77.017859], [10.996853, 77.017823], [10.997139, 77.017789], [10.99745, 77.017748], [10.997751, 77.017721], [10.998245, 77.017677], [10.998328, 77.018522], [10.99839, 77.019426], [10.998507, 77.020417], [10.998505, 77.020561], [10.998633, 77.020545], [10.998894, 77.021902], [10.999186, 77.021841], [10.999578, 77.021729], [10.999605, 77.021675], [10.999673, 77.021595], [10.999752, 77.021563], [10.999794, 77.021546], [10.999947, 77.021538], [11.000268, 77.02149], [11.000323, 77.021498], [11.000347, 77.021541], [11.00045, 77.021896], [11.00055, 77.022242], [11.000651, 77.022618], [11.000746, 77.023031], [11.000857, 77.023463], [11.001519, 77.023382], [11.002132, 77.023345], [11.002237, 77.024335], [11.002264, 77.024567], [11.002271, 77.024626], [11.002337, 77.025189], [11.002428, 77.02578], [11.002448, 77.026185], [11.002201, 77.026346], [11.002012, 77.026445], [11.002005, 77.026748], [11.002014, 77.026784], [11.002325, 77.027922], [11.002481, 77.028419], [11.002171, 77.028607], [11.00219, 77.028671], [11.002074, 77.028742], [11.001178, 77.029328], [11.001105, 77.029375], [11.001185, 77.029646], [11.001256, 77.030037], [11.001314, 77.030456], [11.000823, 77.030524], [11.000973, 77.031497], [11.0009, 77.031512], [11.001141, 77.033026], [11.000842, 77.032931], [11.000577, 77.03282], [11.00029, 77.032722], [11.00017, 77.032781], [11.000078, 77.032826], [10.999778, 77.033058], [10.999703, 77.033185], [10.999742, 77.033576], [10.999735, 77.033706], [10.999085, 77.033902], [10.998865, 77.033968], [10.998915, 77.034157], [10.998993, 77.034456], [10.999018, 77.034674], [10.99894, 77.034737], [10.998918, 77.034798], [10.999014, 77.035034], [10.999157, 77.035472], [10.999268, 77.035815], [10.99941, 77.036254], [10.999122, 77.036371], [10.999058, 77.036492], [10.999407, 77.036871], [10.999594, 77.037079], [11.000012, 77.037617], [11.000143, 77.037784], [11.000695, 77.038526], [11.000926, 77.038812], [11.001133, 77.039103], [11.001218, 77.039222], [11.001525, 77.039462], [11.001711, 77.039634], [11.001882, 77.039706], [11.001973, 77.039726], [11.002271, 77.039807], [11.002658, 77.039715], [11.002843, 77.040528], [11.00298, 77.04117], [11.003084, 77.04156], [11.003157, 77.041889]],\n",
              "                {&quot;bubblingMouseEvents&quot;: true, &quot;color&quot;: &quot;cyan&quot;, &quot;dashArray&quot;: null, &quot;dashOffset&quot;: null, &quot;fill&quot;: false, &quot;fillColor&quot;: &quot;cyan&quot;, &quot;fillOpacity&quot;: 0.2, &quot;fillRule&quot;: &quot;evenodd&quot;, &quot;lineCap&quot;: &quot;round&quot;, &quot;lineJoin&quot;: &quot;round&quot;, &quot;noClip&quot;: false, &quot;opacity&quot;: 1.0, &quot;smoothFactor&quot;: 1.0, &quot;stroke&quot;: true, &quot;weight&quot;: 3}\n",
              "            ).addTo(map_9c4bebe8f2650710fe556e691f74c907);\n",
              "        \n",
              "    \n",
              "            var poly_line_02e8889f0cdc5fa1194aaa8b0d503d90 = L.polyline(\n",
              "                [[11.080261, 76.941911], [11.080265, 76.941935], [11.080291, 76.942076], [11.080444, 76.94257], [11.08047, 76.942617], [11.080758, 76.943137], [11.080791, 76.943213], [11.080878, 76.943467], [11.081095, 76.944101], [11.081098, 76.944231], [11.081015, 76.944363], [11.080927, 76.944465], [11.080549, 76.944481], [11.079662, 76.944654], [11.079723, 76.945075], [11.079647, 76.94526], [11.079705, 76.945717], [11.07921, 76.945801], [11.079256, 76.946202], [11.079303, 76.946621], [11.079369, 76.947066], [11.079404, 76.947359], [11.079516, 76.948265], [11.079521, 76.94835], [11.079363, 76.948402], [11.079358, 76.948626], [11.079384, 76.949422], [11.0794, 76.949548], [11.079407, 76.950178], [11.0794, 76.950525], [11.07886, 76.95052], [11.078846, 76.950967], [11.078834, 76.95138], [11.078811, 76.952122], [11.077903, 76.952093], [11.077927, 76.952256], [11.077949, 76.952309], [11.078034, 76.95242], [11.078054, 76.952488], [11.07814, 76.953805], [11.078186, 76.955162], [11.07822, 76.955239], [11.078235, 76.955445], [11.077798, 76.956623], [11.077879, 76.958262], [11.078059, 76.960963], [11.078275, 76.961901], [11.078413, 76.963051], [11.078449, 76.963533], [11.078343, 76.964635], [11.078337, 76.964679], [11.078309, 76.96536], [11.078283, 76.965977], [11.078243, 76.966693], [11.078228, 76.967093], [11.078231, 76.967328], [11.078128, 76.967565], [11.078089, 76.967656], [11.077794, 76.967806], [11.07738, 76.967871], [11.076151, 76.968063], [11.075983, 76.96816], [11.075959, 76.968493], [11.075951, 76.968825], [11.073482, 76.969067], [11.073314, 76.969072], [11.072989, 76.97018], [11.07282, 76.970668], [11.072704, 76.971158], [11.072331, 76.971308], [11.070351, 76.971544], [11.069593, 76.971619], [11.069545, 76.971662], [11.069535, 76.971748], [11.069577, 76.97214], [11.069561, 76.972183], [11.069508, 76.97221], [11.069119, 76.972175], [11.066914, 76.972232], [11.066524, 76.972235], [11.066142, 76.972268], [11.065358, 76.97232], [11.065226, 76.972317], [11.064749, 76.972305], [11.064686, 76.972267], [11.064671, 76.972177], [11.064241, 76.972126], [11.06355, 76.972217], [11.063054, 76.972284], [11.062551, 76.972352], [11.062642, 76.972914], [11.062654, 76.973417], [11.062659, 76.973667], [11.062614, 76.974414], [11.06254, 76.975632], [11.062352, 76.977005], [11.062395, 76.97818], [11.062441, 76.978306], [11.062477, 76.978486], [11.062493, 76.978699], [11.062492, 76.979095], [11.062904, 76.979109], [11.06291, 76.979521], [11.062962, 76.979541], [11.062962, 76.97962], [11.062958, 76.979966], [11.062852, 76.980183], [11.062625, 76.980473], [11.062278, 76.980883], [11.061758, 76.981491], [11.06179, 76.981536], [11.06182, 76.981639], [11.061852, 76.981793], [11.061933, 76.982036], [11.061949, 76.982068], [11.062137, 76.982488], [11.062251, 76.98294], [11.061889, 76.982964], [11.061907, 76.983156], [11.062002, 76.983197], [11.062034, 76.983638], [11.06216, 76.983907], [11.062226, 76.984088], [11.062385, 76.984508], [11.061366, 76.984762], [11.061563, 76.98562], [11.060967, 76.985744], [11.060568, 76.985833], [11.060301, 76.985894], [11.060359, 76.986162], [11.059407, 76.986222], [11.058985, 76.986288], [11.05898, 76.986554], [11.058938, 76.98665], [11.058645, 76.986703], [11.058619, 76.986756], [11.058646, 76.986929], [11.058771, 76.987757], [11.058829, 76.988199], [11.058852, 76.988571], [11.058855, 76.988987], [11.058698, 76.988982], [11.058652, 76.989006], [11.058678, 76.989704], [11.058678, 76.990301], [11.058683, 76.990447], [11.057867, 76.990459], [11.05788, 76.990789], [11.057884, 76.991015], [11.057896, 76.991244], [11.057374, 76.991277], [11.057379, 76.991344], [11.056933, 76.99139], [11.056607, 76.991407], [11.056299, 76.991451], [11.055882, 76.99149], [11.055357, 76.991541], [11.054876, 76.991587], [11.054917, 76.992471], [11.054528, 76.992513], [11.05415, 76.992578], [11.053585, 76.992711], [11.053366, 76.992772], [11.053297, 76.992835], [11.053368, 76.993139], [11.053492, 76.993561], [11.05363, 76.99394], [11.053597, 76.994149], [11.053538, 76.994222], [11.05377, 76.994344], [11.053456, 76.995078], [11.052955, 76.994797], [11.052476, 76.994479], [11.052548, 76.994652], [11.052053, 76.994789], [11.051205, 76.995012], [11.050819, 76.995102], [11.051302, 76.996526], [11.051532, 76.997217], [11.050771, 76.997493], [11.051435, 76.999387], [11.051151, 76.999454], [11.050883, 76.999515], [11.050741, 76.999091], [11.050317, 76.999232], [11.050324, 76.999252], [11.049681, 76.999468], [11.049817, 76.999885], [11.049682, 76.999935], [11.049254, 77.00008], [11.049414, 77.000524], [11.04904, 77.000631], [11.048702, 77.000714], [11.04788, 77.000887], [11.046929, 77.001166], [11.047034, 77.001531], [11.047142, 77.00191], [11.047247, 77.002277], [11.047361, 77.002668], [11.047051, 77.002766], [11.046658, 77.002849], [11.045651, 77.003135], [11.045046, 77.003282], [11.045134, 77.003781], [11.044326, 77.003993], [11.043977, 77.004078], [11.044086, 77.004522], [11.04368, 77.004613], [11.043437, 77.004659], [11.042621, 77.004876], [11.042167, 77.004993], [11.041815, 77.005074], [11.041797, 77.005075], [11.041584, 77.005119], [11.041185, 77.005217], [11.040843, 77.005293], [11.041133, 77.006567], [11.041328, 77.007262], [11.04142, 77.00768], [11.041517, 77.008088], [11.041795, 77.009013], [11.041045, 77.009187], [11.041075, 77.009422], [11.040526, 77.009493], [11.040441, 77.008989], [11.039974, 77.00906], [11.039356, 77.009129], [11.037404, 77.009394], [11.036406, 77.009553], [11.036017, 77.009585], [11.035656, 77.009607], [11.035324, 77.009682], [11.035029, 77.009698], [11.034804, 77.009798], [11.03426, 77.009828], [11.034281, 77.010206], [11.034297, 77.010629], [11.033909, 77.010638], [11.033918, 77.011292], [11.033601, 77.011303], [11.033647, 77.01184], [11.033763, 77.012648], [11.033787, 77.012916], [11.032895, 77.013002], [11.032375, 77.013054], [11.032127, 77.013058], [11.031554, 77.013178], [11.031596, 77.013573], [11.031624, 77.013798], [11.031659, 77.014083], [11.03171, 77.014491], [11.031322, 77.014546], [11.031055, 77.014575], [11.030947, 77.015111], [11.030965, 77.016719], [11.030735, 77.016762], [11.030584, 77.016791], [11.03017, 77.01686], [11.029822, 77.016918], [11.029047, 77.017044], [11.028178, 77.017186], [11.02825, 77.018154], [11.027645, 77.018262], [11.02778, 77.019018], [11.027862, 77.019475], [11.026264, 77.019774], [11.026247, 77.01969], [11.026151, 77.019714], [11.02611, 77.019521], [11.025595, 77.019632], [11.025229, 77.019712], [11.025425, 77.020654], [11.025037, 77.020729], [11.025167, 77.021297], [11.024732, 77.02143], [11.024193, 77.0216], [11.023667, 77.021767], [11.023149, 77.021901], [11.023487, 77.023007], [11.023876, 77.024208], [11.023408, 77.024191], [11.02309, 77.024149], [11.023144, 77.024346], [11.023243, 77.024707], [11.022986, 77.024746], [11.022953, 77.024838], [11.022761, 77.024926], [11.022936, 77.025488], [11.022686, 77.025734], [11.02268, 77.025782], [11.022711, 77.025939], [11.022698, 77.025971], [11.022229, 77.026543], [11.022023, 77.026804], [11.021776, 77.027142], [11.021031, 77.028106], [11.021012, 77.028071], [11.020285, 77.028185], [11.020066, 77.028256], [11.020074, 77.028294], [11.020231, 77.029071], [11.019922, 77.029479], [11.01895, 77.029642], [11.018568, 77.029719], [11.018738, 77.03099], [11.018729, 77.031029], [11.01868, 77.031083], [11.018538, 77.031177], [11.018195, 77.031534], [11.018167, 77.03169], [11.017991, 77.031929], [11.017826, 77.032093], [11.0175, 77.032102], [11.017155, 77.032197], [11.017234, 77.032672], [11.016499, 77.033772], [11.016225, 77.034131], [11.01603, 77.034387], [11.015874, 77.034559], [11.015488, 77.034995], [11.015351, 77.035162], [11.015008, 77.035213], [11.014662, 77.03526], [11.01425, 77.035315], [11.014083, 77.035337], [11.014107, 77.035465], [11.014147, 77.035758], [11.013585, 77.036465], [11.012426, 77.036543], [11.012178, 77.036609], [11.011868, 77.036724], [11.011749, 77.036768], [11.010901, 77.036978], [11.010336, 77.037106], [11.010317, 77.037249], [11.010271, 77.037247], [11.010305, 77.038074], [11.010348, 77.038509], [11.009488, 77.038568], [11.00951, 77.038974], [11.009535, 77.039437], [11.00909, 77.039507], [11.009053, 77.039534], [11.009044, 77.039873], [11.009091, 77.040296], [11.009133, 77.040672], [11.008869, 77.040789], [11.008456, 77.040938], [11.008047, 77.041065], [11.007661, 77.041186], [11.007469, 77.040555], [11.006826, 77.04077], [11.006566, 77.040382], [11.00622, 77.040544], [11.005905, 77.040691], [11.005859, 77.040713], [11.005734, 77.040879], [11.005604, 77.040926], [11.004967, 77.04116], [11.004376, 77.041378], [11.00323, 77.041822], [11.002735, 77.039696], [11.002658, 77.039715], [11.002843, 77.040528], [11.00298, 77.04117], [11.003084, 77.04156], [11.003157, 77.041889]],\n",
              "                {&quot;bubblingMouseEvents&quot;: true, &quot;color&quot;: &quot;green&quot;, &quot;dashArray&quot;: null, &quot;dashOffset&quot;: null, &quot;fill&quot;: false, &quot;fillColor&quot;: &quot;green&quot;, &quot;fillOpacity&quot;: 0.2, &quot;fillRule&quot;: &quot;evenodd&quot;, &quot;lineCap&quot;: &quot;round&quot;, &quot;lineJoin&quot;: &quot;round&quot;, &quot;noClip&quot;: false, &quot;opacity&quot;: 1.0, &quot;smoothFactor&quot;: 1.0, &quot;stroke&quot;: true, &quot;weight&quot;: 3}\n",
              "            ).addTo(map_9c4bebe8f2650710fe556e691f74c907);\n",
              "        \n",
              "    \n",
              "            var poly_line_fffb4c04279ab4c4be623a1064d79e94 = L.polyline(\n",
              "                [[10.99715, 76.999142], [10.997153, 76.999442], [10.998238, 76.999325], [10.998646, 76.99928], [10.998822, 76.999256], [11.000251, 76.999044], [11.00089, 76.998942], [11.000565, 76.99796], [11.00114, 76.997795], [11.001704, 76.997719], [11.002383, 76.997633], [11.003219, 76.99754], [11.00297, 76.996633], [11.002908, 76.996042], [11.003467, 76.995916], [11.003727, 76.995877], [11.004288, 76.995761], [11.004349, 76.995584], [11.004533, 76.995279], [11.004787, 76.994857], [11.004888, 76.994741], [11.005304, 76.994529], [11.005411, 76.994595], [11.005698, 76.994759], [11.005752, 76.994756], [11.006019, 76.994851], [11.006601, 76.994896], [11.006818, 76.994928], [11.006913, 76.994942], [11.007053, 76.994967], [11.007269, 76.994979], [11.007534, 76.994939], [11.008558, 76.994605], [11.009568, 76.994215], [11.010161, 76.993966], [11.010367, 76.993821], [11.010463, 76.993723], [11.010614, 76.993472], [11.010691, 76.993087], [11.010843, 76.992167], [11.010865, 76.991754], [11.011821, 76.991131], [11.012008, 76.990956], [11.012172, 76.990801], [11.012353, 76.990657], [11.012434, 76.990593], [11.012822, 76.990134], [11.013323, 76.98944], [11.013493, 76.989187], [11.013699, 76.988904], [11.013926, 76.988592], [11.014458, 76.987981], [11.014147, 76.987557], [11.013185, 76.98651], [11.012952, 76.986239], [11.013068, 76.986147], [11.013035, 76.98611], [11.014072, 76.985449], [11.014228, 76.985319], [11.014355, 76.98554], [11.014768, 76.985412], [11.01516, 76.985299], [11.015605, 76.985177], [11.015553, 76.984874], [11.01624, 76.98464], [11.016304, 76.984575], [11.016304, 76.983937], [11.016146, 76.983927], [11.015972, 76.983581], [11.015867, 76.98339], [11.015781, 76.983203], [11.016383, 76.982971], [11.016515, 76.982904], [11.016429, 76.982372], [11.016411, 76.98214], [11.016348, 76.98186], [11.01631, 76.981677], [11.016015, 76.980526], [11.01601, 76.980479], [11.016332, 76.980329], [11.016746, 76.980133], [11.016838, 76.980045], [11.016918, 76.97997], [11.017227, 76.979843], [11.01716, 76.979414], [11.017016, 76.978544], [11.016991, 76.978309], [11.017466, 76.978308], [11.017435, 76.978007], [11.017238, 76.977449], [11.017457, 76.977501], [11.017481, 76.977033], [11.017757, 76.977042], [11.01767, 76.97599], [11.017826, 76.975979], [11.018008, 76.975966], [11.018045, 76.975963], [11.018462, 76.975933], [11.019159, 76.975852], [11.019188, 76.975848], [11.019871, 76.97581], [11.020455, 76.975752], [11.02045, 76.975671], [11.020412, 76.975004], [11.02033, 76.973776], [11.020217, 76.972304], [11.020172, 76.971717], [11.020963, 76.971683], [11.02083, 76.97114], [11.020785, 76.970865], [11.020508, 76.970673], [11.020224, 76.970514], [11.020166, 76.969208], [11.020485, 76.969214], [11.020406, 76.968728], [11.0205, 76.968717], [11.022538, 76.968518], [11.022542, 76.968428], [11.022498, 76.967979], [11.02247, 76.967512], [11.022423, 76.967029], [11.023429, 76.966907], [11.024732, 76.966766], [11.025602, 76.966766], [11.025612, 76.966456], [11.025616, 76.966035], [11.025619, 76.965942], [11.025998, 76.96632], [11.026072, 76.966372], [11.026441, 76.966546], [11.026548, 76.965973], [11.02674, 76.965169], [11.026925, 76.96374], [11.026959, 76.963344], [11.026965, 76.963277], [11.027061, 76.96286], [11.027188, 76.962429], [11.027234, 76.962104], [11.02866, 76.962311], [11.028767, 76.961871], [11.028961, 76.961079], [11.029065, 76.9607], [11.029097, 76.960099], [11.029442, 76.960136], [11.029483, 76.959908], [11.029518, 76.959549], [11.029859, 76.959578], [11.030303, 76.959617], [11.03081, 76.959587], [11.03082, 76.959754], [11.031203, 76.959769], [11.031369, 76.959776], [11.031548, 76.959756], [11.031823, 76.959643], [11.032059, 76.959588], [11.031981, 76.958719], [11.032282, 76.958686], [11.032572, 76.958654], [11.03288, 76.95862], [11.033189, 76.958585], [11.033134, 76.958008], [11.033649, 76.957932], [11.033647, 76.957859], [11.034137, 76.957892], [11.034173, 76.957645], [11.03421, 76.957393], [11.034247, 76.957146], [11.034284, 76.956906], [11.034323, 76.956652], [11.034357, 76.956431], [11.034397, 76.956168], [11.034439, 76.955899], [11.034475, 76.955664], [11.034504, 76.955388], [11.03456, 76.955398], [11.034607, 76.955064], [11.034647, 76.954717], [11.034776, 76.954665], [11.03578, 76.954769], [11.03581, 76.954619], [11.035891, 76.954231], [11.03592, 76.954094], [11.036007, 76.953684], [11.036051, 76.95359], [11.036081, 76.953527], [11.035941, 76.953478], [11.035932, 76.953398], [11.035906, 76.953172], [11.035941, 76.952786], [11.035981, 76.952585], [11.036677, 76.952529], [11.036689, 76.952477], [11.036711, 76.951828], [11.037787, 76.951785], [11.037873, 76.951818], [11.038881, 76.951802], [11.039195, 76.951739], [11.039261, 76.951677], [11.039448, 76.951661], [11.039806, 76.951631], [11.040907, 76.951562], [11.04155, 76.951565], [11.041988, 76.951526], [11.04245, 76.951477], [11.04288, 76.95145], [11.043141, 76.951435], [11.04333, 76.94999], [11.043775, 76.949964], [11.044184, 76.949888], [11.044521, 76.949826], [11.044601, 76.95017], [11.045055, 76.950093], [11.045091, 76.950087], [11.045483, 76.950087], [11.046247, 76.950085], [11.046242, 76.950182], [11.047007, 76.950169], [11.047012, 76.950731], [11.04703, 76.950811], [11.047084, 76.950833], [11.047596, 76.950817], [11.047867, 76.950796], [11.047919, 76.95076], [11.047935, 76.950633], [11.047941, 76.950346], [11.048725, 76.950344], [11.049139, 76.95032], [11.049764, 76.950357], [11.050207, 76.950384], [11.050698, 76.950413], [11.050721, 76.950255], [11.051341, 76.950348], [11.051454, 76.95023], [11.051538, 76.950104], [11.052783, 76.95023], [11.05267, 76.950554], [11.053449, 76.950476], [11.053402, 76.949678], [11.053737, 76.949643], [11.054077, 76.949615], [11.054438, 76.949584], [11.054848, 76.94954], [11.055481, 76.94946], [11.055881, 76.949412], [11.05589, 76.949237], [11.055859, 76.948411], [11.055915, 76.948222], [11.056059, 76.947998], [11.056095, 76.947843], [11.056097, 76.947338], [11.056133, 76.947191], [11.056211, 76.947118], [11.056467, 76.947079], [11.056541, 76.947028], [11.056571, 76.946923], [11.056709, 76.94578], [11.056712, 76.945547], [11.057443, 76.945453], [11.057875, 76.945357], [11.059273, 76.94493], [11.059629, 76.944824], [11.059702, 76.945134]],\n",
              "                {&quot;bubblingMouseEvents&quot;: true, &quot;color&quot;: &quot;black&quot;, &quot;dashArray&quot;: null, &quot;dashOffset&quot;: null, &quot;fill&quot;: false, &quot;fillColor&quot;: &quot;black&quot;, &quot;fillOpacity&quot;: 0.2, &quot;fillRule&quot;: &quot;evenodd&quot;, &quot;lineCap&quot;: &quot;round&quot;, &quot;lineJoin&quot;: &quot;round&quot;, &quot;noClip&quot;: false, &quot;opacity&quot;: 1.0, &quot;smoothFactor&quot;: 1.0, &quot;stroke&quot;: true, &quot;weight&quot;: 3}\n",
              "            ).addTo(map_9c4bebe8f2650710fe556e691f74c907);\n",
              "        \n",
              "&lt;/script&gt;\n",
              "&lt;/html&gt;\" style=\"position:absolute;width:100%;height:100%;left:0;top:0;border:none !important;\" allowfullscreen webkitallowfullscreen mozallowfullscreen></iframe></div></div>"
            ]
          },
          "metadata": {},
          "execution_count": 103
        }
      ]
    },
    {
      "cell_type": "code",
      "source": [
        "kitchens_details\n"
      ],
      "metadata": {
        "colab": {
          "base_uri": "https://localhost:8080/"
        },
        "id": "PilsPp0zO5Mo",
        "outputId": "3766d99b-eb1d-4687-ca33-619a118b9878"
      },
      "execution_count": 104,
      "outputs": [
        {
          "output_type": "execute_result",
          "data": {
            "text/plain": [
              "{'k1': [11.055677947474992, 77.0657629297908],\n",
              " 'k2': [11.080302939124921, 76.94190401520554],\n",
              " 'k3': [10.95900228800367, 76.9854557122443],\n",
              " 'k4': [10.99727340737769, 76.99914012640663]}"
            ]
          },
          "metadata": {},
          "execution_count": 104
        }
      ]
    },
    {
      "cell_type": "code",
      "source": [
        "import operator\n",
        "from functools import reduce\n",
        "\n",
        "m = folium.Map(location=list([ 10.997480123197462, 77.01116519467452]), tiles=\"cartodbpositron\", zoom_start=13)\n",
        "\n",
        "coords = [[10.997480123197462, 77.01116519467452], [11.011062161407962, 76.98302718384372]]\n",
        "coords=[list(reversed(i)) for i in coords]\n",
        "route = client.directions(coordinates=coords,\n",
        "                          profile='foot-walking',\n",
        "                          format='geojson')\n",
        "\n",
        "waypoints = list(dict.fromkeys(reduce(operator.concat, list(map(lambda step: step['way_points'], route['features'][0]['properties']['segments'][0]['steps'])))))\n",
        "\n",
        "folium.PolyLine(locations=[list(reversed(coord)) for coord in route['features'][0]['geometry']['coordinates']], color=\"blue\").add_to(m)\n",
        "\n",
        "folium.PolyLine(locations=[list(reversed(route['features'][0]['geometry']['coordinates'][index])) for index in waypoints], color=\"red\").add_to(m)\n",
        "\n",
        "m"
      ],
      "metadata": {
        "colab": {
          "base_uri": "https://localhost:8080/",
          "height": 490
        },
        "id": "C9osZNrhLQ2P",
        "outputId": "bb9d1dad-9c8c-49ca-e1b5-bfe72beafbc7"
      },
      "execution_count": 105,
      "outputs": [
        {
          "output_type": "execute_result",
          "data": {
            "text/plain": [
              "<folium.folium.Map at 0x79b6184854b0>"
            ],
            "text/html": [
              "<div style=\"width:100%;\"><div style=\"position:relative;width:100%;height:0;padding-bottom:60%;\"><span style=\"color:#565656\">Make this Notebook Trusted to load map: File -> Trust Notebook</span><iframe srcdoc=\"&lt;!DOCTYPE html&gt;\n",
              "&lt;html&gt;\n",
              "&lt;head&gt;\n",
              "    \n",
              "    &lt;meta http-equiv=&quot;content-type&quot; content=&quot;text/html; charset=UTF-8&quot; /&gt;\n",
              "    \n",
              "        &lt;script&gt;\n",
              "            L_NO_TOUCH = false;\n",
              "            L_DISABLE_3D = false;\n",
              "        &lt;/script&gt;\n",
              "    \n",
              "    &lt;style&gt;html, body {width: 100%;height: 100%;margin: 0;padding: 0;}&lt;/style&gt;\n",
              "    &lt;style&gt;#map {position:absolute;top:0;bottom:0;right:0;left:0;}&lt;/style&gt;\n",
              "    &lt;script src=&quot;https://cdn.jsdelivr.net/npm/leaflet@1.9.3/dist/leaflet.js&quot;&gt;&lt;/script&gt;\n",
              "    &lt;script src=&quot;https://code.jquery.com/jquery-1.12.4.min.js&quot;&gt;&lt;/script&gt;\n",
              "    &lt;script src=&quot;https://cdn.jsdelivr.net/npm/bootstrap@5.2.2/dist/js/bootstrap.bundle.min.js&quot;&gt;&lt;/script&gt;\n",
              "    &lt;script src=&quot;https://cdnjs.cloudflare.com/ajax/libs/Leaflet.awesome-markers/2.0.2/leaflet.awesome-markers.js&quot;&gt;&lt;/script&gt;\n",
              "    &lt;link rel=&quot;stylesheet&quot; href=&quot;https://cdn.jsdelivr.net/npm/leaflet@1.9.3/dist/leaflet.css&quot;/&gt;\n",
              "    &lt;link rel=&quot;stylesheet&quot; href=&quot;https://cdn.jsdelivr.net/npm/bootstrap@5.2.2/dist/css/bootstrap.min.css&quot;/&gt;\n",
              "    &lt;link rel=&quot;stylesheet&quot; href=&quot;https://netdna.bootstrapcdn.com/bootstrap/3.0.0/css/bootstrap.min.css&quot;/&gt;\n",
              "    &lt;link rel=&quot;stylesheet&quot; href=&quot;https://cdn.jsdelivr.net/npm/@fortawesome/fontawesome-free@6.2.0/css/all.min.css&quot;/&gt;\n",
              "    &lt;link rel=&quot;stylesheet&quot; href=&quot;https://cdnjs.cloudflare.com/ajax/libs/Leaflet.awesome-markers/2.0.2/leaflet.awesome-markers.css&quot;/&gt;\n",
              "    &lt;link rel=&quot;stylesheet&quot; href=&quot;https://cdn.jsdelivr.net/gh/python-visualization/folium/folium/templates/leaflet.awesome.rotate.min.css&quot;/&gt;\n",
              "    \n",
              "            &lt;meta name=&quot;viewport&quot; content=&quot;width=device-width,\n",
              "                initial-scale=1.0, maximum-scale=1.0, user-scalable=no&quot; /&gt;\n",
              "            &lt;style&gt;\n",
              "                #map_c5d1886bc0e0b2844c2c208d0fc0db44 {\n",
              "                    position: relative;\n",
              "                    width: 100.0%;\n",
              "                    height: 100.0%;\n",
              "                    left: 0.0%;\n",
              "                    top: 0.0%;\n",
              "                }\n",
              "                .leaflet-container { font-size: 1rem; }\n",
              "            &lt;/style&gt;\n",
              "        \n",
              "&lt;/head&gt;\n",
              "&lt;body&gt;\n",
              "    \n",
              "    \n",
              "            &lt;div class=&quot;folium-map&quot; id=&quot;map_c5d1886bc0e0b2844c2c208d0fc0db44&quot; &gt;&lt;/div&gt;\n",
              "        \n",
              "&lt;/body&gt;\n",
              "&lt;script&gt;\n",
              "    \n",
              "    \n",
              "            var map_c5d1886bc0e0b2844c2c208d0fc0db44 = L.map(\n",
              "                &quot;map_c5d1886bc0e0b2844c2c208d0fc0db44&quot;,\n",
              "                {\n",
              "                    center: [10.997480123197462, 77.01116519467452],\n",
              "                    crs: L.CRS.EPSG3857,\n",
              "                    zoom: 13,\n",
              "                    zoomControl: true,\n",
              "                    preferCanvas: false,\n",
              "                }\n",
              "            );\n",
              "\n",
              "            \n",
              "\n",
              "        \n",
              "    \n",
              "            var tile_layer_51fe6e9cba5d9552e67c0a1b7d9049f0 = L.tileLayer(\n",
              "                &quot;https://cartodb-basemaps-{s}.global.ssl.fastly.net/light_all/{z}/{x}/{y}.png&quot;,\n",
              "                {&quot;attribution&quot;: &quot;\\u0026copy; \\u003ca target=\\&quot;_blank\\&quot; href=\\&quot;http://www.openstreetmap.org/copyright\\&quot;\\u003eOpenStreetMap\\u003c/a\\u003e contributors \\u0026copy; \\u003ca target=\\&quot;_blank\\&quot; href=\\&quot;http://cartodb.com/attributions\\&quot;\\u003eCartoDB\\u003c/a\\u003e, CartoDB \\u003ca target=\\&quot;_blank\\&quot; href =\\&quot;http://cartodb.com/attributions\\&quot;\\u003eattributions\\u003c/a\\u003e&quot;, &quot;detectRetina&quot;: false, &quot;maxNativeZoom&quot;: 18, &quot;maxZoom&quot;: 18, &quot;minZoom&quot;: 0, &quot;noWrap&quot;: false, &quot;opacity&quot;: 1, &quot;subdomains&quot;: &quot;abc&quot;, &quot;tms&quot;: false}\n",
              "            ).addTo(map_c5d1886bc0e0b2844c2c208d0fc0db44);\n",
              "        \n",
              "    \n",
              "            var poly_line_37d38f5d7e1bcd086e3045d0102caef3 = L.polyline(\n",
              "                [[10.997441, 77.011172], [10.997315, 77.010409], [10.997273, 77.010125], [10.997386, 77.010105], [10.998564, 77.009611], [10.998932, 77.009518], [10.99935, 77.009413], [10.999781, 77.009302], [11.000229, 77.009186], [11.000804, 77.009059], [11.000673, 77.00835], [11.000716, 77.00806], [11.000566, 77.007211], [11.000544, 77.007086], [11.000452, 77.006567], [11.000189, 77.005315], [11.000595, 77.004859], [11.001329, 77.004065], [11.001621, 77.003789], [11.001367, 77.003556], [11.001138, 77.003308], [11.000994, 77.002999], [11.000865, 77.002525], [11.000833, 77.002226], [11.000755, 77.001488], [11.00071, 77.001364], [11.000697, 77.001248], [11.000934, 77.001018], [11.001155, 77.000926], [11.001122, 77.000777], [11.001182, 77.000643], [11.001506, 77.000604], [11.001775, 77.000541], [11.001968, 77.000405], [11.002512, 76.999941], [11.003033, 76.999558], [11.003189, 76.999428], [11.003484, 76.998364], [11.003682, 76.997657], [11.004, 76.996613], [11.004288, 76.995761], [11.004349, 76.995584], [11.004533, 76.995279], [11.004787, 76.994857], [11.004888, 76.994741], [11.005304, 76.994529], [11.005411, 76.994595], [11.005698, 76.994759], [11.005752, 76.994756], [11.006019, 76.994851], [11.006601, 76.994896], [11.006818, 76.994928], [11.006913, 76.994942], [11.007053, 76.994967], [11.007269, 76.994979], [11.007534, 76.994939], [11.008558, 76.994605], [11.009568, 76.994215], [11.010161, 76.993966], [11.010367, 76.993821], [11.010463, 76.993723], [11.010614, 76.993472], [11.010691, 76.993087], [11.010843, 76.992167], [11.010865, 76.991754], [11.011821, 76.991131], [11.012008, 76.990956], [11.012172, 76.990801], [11.012353, 76.990657], [11.012434, 76.990593], [11.012822, 76.990134], [11.013323, 76.98944], [11.013493, 76.989187], [11.013699, 76.988904], [11.013926, 76.988592], [11.014458, 76.987981], [11.014147, 76.987557], [11.013185, 76.98651], [11.012952, 76.986239], [11.013068, 76.986147], [11.013035, 76.98611], [11.012959, 76.986025], [11.012853, 76.985903], [11.01266, 76.98568], [11.012553, 76.985555], [11.012305, 76.985177], [11.011078, 76.983018]],\n",
              "                {&quot;bubblingMouseEvents&quot;: true, &quot;color&quot;: &quot;blue&quot;, &quot;dashArray&quot;: null, &quot;dashOffset&quot;: null, &quot;fill&quot;: false, &quot;fillColor&quot;: &quot;blue&quot;, &quot;fillOpacity&quot;: 0.2, &quot;fillRule&quot;: &quot;evenodd&quot;, &quot;lineCap&quot;: &quot;round&quot;, &quot;lineJoin&quot;: &quot;round&quot;, &quot;noClip&quot;: false, &quot;opacity&quot;: 1.0, &quot;smoothFactor&quot;: 1.0, &quot;stroke&quot;: true, &quot;weight&quot;: 3}\n",
              "            ).addTo(map_c5d1886bc0e0b2844c2c208d0fc0db44);\n",
              "        \n",
              "    \n",
              "            var poly_line_03727ae1822449d2cfe91f1aa69fbedc = L.polyline(\n",
              "                [[10.997441, 77.011172], [10.997273, 77.010125], [11.000804, 77.009059], [11.000189, 77.005315], [11.001621, 77.003789], [11.00071, 77.001364], [11.001155, 77.000926], [11.001182, 77.000643], [11.003484, 76.998364], [11.005304, 76.994529], [11.005698, 76.994759], [11.010865, 76.991754], [11.014458, 76.987981], [11.012952, 76.986239], [11.013068, 76.986147], [11.011078, 76.983018]],\n",
              "                {&quot;bubblingMouseEvents&quot;: true, &quot;color&quot;: &quot;red&quot;, &quot;dashArray&quot;: null, &quot;dashOffset&quot;: null, &quot;fill&quot;: false, &quot;fillColor&quot;: &quot;red&quot;, &quot;fillOpacity&quot;: 0.2, &quot;fillRule&quot;: &quot;evenodd&quot;, &quot;lineCap&quot;: &quot;round&quot;, &quot;lineJoin&quot;: &quot;round&quot;, &quot;noClip&quot;: false, &quot;opacity&quot;: 1.0, &quot;smoothFactor&quot;: 1.0, &quot;stroke&quot;: true, &quot;weight&quot;: 3}\n",
              "            ).addTo(map_c5d1886bc0e0b2844c2c208d0fc0db44);\n",
              "        \n",
              "&lt;/script&gt;\n",
              "&lt;/html&gt;\" style=\"position:absolute;width:100%;height:100%;left:0;top:0;border:none !important;\" allowfullscreen webkitallowfullscreen mozallowfullscreen></iframe></div></div>"
            ]
          },
          "metadata": {},
          "execution_count": 105
        }
      ]
    },
    {
      "cell_type": "code",
      "source": [],
      "metadata": {
        "id": "WGA0cxl0TvDl"
      },
      "execution_count": 105,
      "outputs": []
    }
  ]
}